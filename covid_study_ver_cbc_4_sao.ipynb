{
 "cells": [
  {
   "cell_type": "markdown",
   "metadata": {},
   "source": [
    "# Covid 19 Prediction Study - CBC"
   ]
  },
  {
   "cell_type": "markdown",
   "metadata": {},
   "source": [
    "### Importing libraries"
   ]
  },
  {
   "cell_type": "code",
   "execution_count": 162,
   "metadata": {},
   "outputs": [],
   "source": [
    "import numpy as np\n",
    "import pandas as pd\n",
    "import matplotlib.pyplot as plt\n"
   ]
  },
  {
   "cell_type": "markdown",
   "metadata": {},
   "source": [
    "## Baskent Data"
   ]
  },
  {
   "cell_type": "code",
   "execution_count": 163,
   "metadata": {},
   "outputs": [],
   "source": [
    "# başkent university data\n",
    "veriler = pd.read_excel(r'covid data 05.xlsx')"
   ]
  },
  {
   "cell_type": "code",
   "execution_count": 165,
   "metadata": {},
   "outputs": [
    {
     "name": "stdout",
     "output_type": "stream",
     "text": [
      "total number of pcr results:  1391\n",
      "number of positive pcr results:  707\n",
      "number of negative pcr results:  684\n"
     ]
    }
   ],
   "source": [
    "# başkent uni data\n",
    "print('total number of pcr results: ',len(veriler['pcr']))\n",
    "print('number of positive pcr results: ',len(veriler[veriler['pcr']=='positive']))\n",
    "print('number of negative pcr results: ',len(veriler[veriler['pcr']=='negative']))"
   ]
  },
  {
   "cell_type": "markdown",
   "metadata": {},
   "source": [
    "## Sao Paulo dataset"
   ]
  },
  {
   "cell_type": "code",
   "execution_count": 166,
   "metadata": {},
   "outputs": [],
   "source": [
    "veri_saopaulo = pd.read_excel(r'sao_dataset.xlsx' )"
   ]
  },
  {
   "cell_type": "code",
   "execution_count": 167,
   "metadata": {},
   "outputs": [
    {
     "name": "stdout",
     "output_type": "stream",
     "text": [
      "total number of pcr results:  5644\n",
      "number of positive pcr results:  558\n",
      "number of negative pcr results:  5086\n"
     ]
    }
   ],
   "source": [
    "\n",
    "print('total number of pcr results: ',len(veri_saopaulo['SARS-Cov-2 exam result']))\n",
    "print('number of positive pcr results: ',len(veri_saopaulo[veri_saopaulo['SARS-Cov-2 exam result']=='positive']))\n",
    "print('number of negative pcr results: ',len(veri_saopaulo[veri_saopaulo['SARS-Cov-2 exam result']=='negative']))"
   ]
  },
  {
   "cell_type": "code",
   "execution_count": 168,
   "metadata": {},
   "outputs": [
    {
     "data": {
      "text/plain": [
       "['Patient ID',\n",
       " 'Patient age quantile',\n",
       " 'SARS-Cov-2 exam result',\n",
       " 'Patient addmited to regular ward (1=yes, 0=no)',\n",
       " 'Patient addmited to semi-intensive unit (1=yes, 0=no)',\n",
       " 'Patient addmited to intensive care unit (1=yes, 0=no)',\n",
       " 'Hematocrit',\n",
       " 'Hemoglobin',\n",
       " 'Platelets',\n",
       " 'Mean platelet volume ',\n",
       " 'Red blood Cells',\n",
       " 'Lymphocytes',\n",
       " 'Mean corpuscular hemoglobin concentration\\xa0(MCHC)',\n",
       " 'Leukocytes',\n",
       " 'Basophils',\n",
       " 'Mean corpuscular hemoglobin (MCH)',\n",
       " 'Eosinophils',\n",
       " 'Mean corpuscular volume (MCV)',\n",
       " 'Monocytes',\n",
       " 'Red blood cell distribution width (RDW)',\n",
       " 'Serum Glucose',\n",
       " 'Respiratory Syncytial Virus',\n",
       " 'Influenza A',\n",
       " 'Influenza B',\n",
       " 'Parainfluenza 1',\n",
       " 'CoronavirusNL63',\n",
       " 'Rhinovirus/Enterovirus',\n",
       " 'Mycoplasma pneumoniae',\n",
       " 'Coronavirus HKU1',\n",
       " 'Parainfluenza 3',\n",
       " 'Chlamydophila pneumoniae',\n",
       " 'Adenovirus',\n",
       " 'Parainfluenza 4',\n",
       " 'Coronavirus229E',\n",
       " 'CoronavirusOC43',\n",
       " 'Inf A H1N1 2009',\n",
       " 'Bordetella pertussis',\n",
       " 'Metapneumovirus',\n",
       " 'Parainfluenza 2',\n",
       " 'Neutrophils',\n",
       " 'Urea',\n",
       " 'Proteina C reativa mg/dL',\n",
       " 'Creatinine',\n",
       " 'Potassium',\n",
       " 'Sodium',\n",
       " 'Influenza B, rapid test',\n",
       " 'Influenza A, rapid test',\n",
       " 'Alanine transaminase',\n",
       " 'Aspartate transaminase',\n",
       " 'Gamma-glutamyltransferase\\xa0',\n",
       " 'Total Bilirubin',\n",
       " 'Direct Bilirubin',\n",
       " 'Indirect Bilirubin',\n",
       " 'Alkaline phosphatase',\n",
       " 'Ionized calcium\\xa0',\n",
       " 'Strepto A',\n",
       " 'Magnesium',\n",
       " 'pCO2 (venous blood gas analysis)',\n",
       " 'Hb saturation (venous blood gas analysis)',\n",
       " 'Base excess (venous blood gas analysis)',\n",
       " 'pO2 (venous blood gas analysis)',\n",
       " 'Fio2 (venous blood gas analysis)',\n",
       " 'Total CO2 (venous blood gas analysis)',\n",
       " 'pH (venous blood gas analysis)',\n",
       " 'HCO3 (venous blood gas analysis)',\n",
       " 'Rods #',\n",
       " 'Segmented',\n",
       " 'Promyelocytes',\n",
       " 'Metamyelocytes',\n",
       " 'Myelocytes',\n",
       " 'Myeloblasts',\n",
       " 'Urine - Esterase',\n",
       " 'Urine - Aspect',\n",
       " 'Urine - pH',\n",
       " 'Urine - Hemoglobin',\n",
       " 'Urine - Bile pigments',\n",
       " 'Urine - Ketone Bodies',\n",
       " 'Urine - Nitrite',\n",
       " 'Urine - Density',\n",
       " 'Urine - Urobilinogen',\n",
       " 'Urine - Protein',\n",
       " 'Urine - Sugar',\n",
       " 'Urine - Leukocytes',\n",
       " 'Urine - Crystals',\n",
       " 'Urine - Red blood cells',\n",
       " 'Urine - Hyaline cylinders',\n",
       " 'Urine - Granular cylinders',\n",
       " 'Urine - Yeasts',\n",
       " 'Urine - Color',\n",
       " 'Partial thromboplastin time\\xa0(PTT)\\xa0',\n",
       " 'Relationship (Patient/Normal)',\n",
       " 'International normalized ratio (INR)',\n",
       " 'Lactic Dehydrogenase',\n",
       " 'Prothrombin time (PT), Activity',\n",
       " 'Vitamin B12',\n",
       " 'Creatine phosphokinase\\xa0(CPK)\\xa0',\n",
       " 'Ferritin',\n",
       " 'Arterial Lactic Acid',\n",
       " 'Lipase dosage',\n",
       " 'D-Dimer',\n",
       " 'Albumin',\n",
       " 'Hb saturation (arterial blood gases)',\n",
       " 'pCO2 (arterial blood gas analysis)',\n",
       " 'Base excess (arterial blood gas analysis)',\n",
       " 'pH (arterial blood gas analysis)',\n",
       " 'Total CO2 (arterial blood gas analysis)',\n",
       " 'HCO3 (arterial blood gas analysis)',\n",
       " 'pO2 (arterial blood gas analysis)',\n",
       " 'Arteiral Fio2',\n",
       " 'Phosphor',\n",
       " 'ctO2 (arterial blood gas analysis)']"
      ]
     },
     "execution_count": 168,
     "metadata": {},
     "output_type": "execute_result"
    }
   ],
   "source": [
    "veri_saopaulo_l = list(veri_saopaulo.columns)\n",
    "veri_saopaulo_l"
   ]
  },
  {
   "cell_type": "code",
   "execution_count": 169,
   "metadata": {},
   "outputs": [],
   "source": [
    "veri_saopaulo_l2 = ['Hematocrit', 'Hemoglobin', 'Platelets', 'Mean platelet volume ', \n",
    "'Red blood Cells', 'Lymphocytes', 'Mean corpuscular hemoglobin concentration\\xa0(MCHC)',\n",
    " 'Leukocytes', 'Basophils', 'Mean corpuscular hemoglobin (MCH)', 'Eosinophils',\n",
    " 'Mean corpuscular volume (MCV)', 'Monocytes','Red blood cell distribution width (RDW)']"
   ]
  },
  {
   "cell_type": "code",
   "execution_count": 170,
   "metadata": {},
   "outputs": [
    {
     "data": {
      "text/plain": [
       "14"
      ]
     },
     "execution_count": 170,
     "metadata": {},
     "output_type": "execute_result"
    }
   ],
   "source": [
    "len(veri_saopaulo_l2)"
   ]
  },
  {
   "cell_type": "code",
   "execution_count": 171,
   "metadata": {},
   "outputs": [
    {
     "data": {
      "text/html": [
       "<div>\n",
       "<style scoped>\n",
       "    .dataframe tbody tr th:only-of-type {\n",
       "        vertical-align: middle;\n",
       "    }\n",
       "\n",
       "    .dataframe tbody tr th {\n",
       "        vertical-align: top;\n",
       "    }\n",
       "\n",
       "    .dataframe thead th {\n",
       "        text-align: right;\n",
       "    }\n",
       "</style>\n",
       "<table border=\"1\" class=\"dataframe\">\n",
       "  <thead>\n",
       "    <tr style=\"text-align: right;\">\n",
       "      <th></th>\n",
       "      <th>Hemoglobin</th>\n",
       "      <th>Hematocrit</th>\n",
       "      <th>Lymphocytes</th>\n",
       "      <th>Leukocytes</th>\n",
       "      <th>Mean corpuscular hemoglobin (MCH)</th>\n",
       "      <th>Mean corpuscular hemoglobin concentration (MCHC)</th>\n",
       "      <th>Mean corpuscular volume (MCV)</th>\n",
       "      <th>Monocytes</th>\n",
       "      <th>Neutrophils</th>\n",
       "      <th>Basophils</th>\n",
       "      <th>Eosinophils</th>\n",
       "      <th>Red blood Cells</th>\n",
       "      <th>Red blood cell distribution width (RDW)</th>\n",
       "      <th>Platelets</th>\n",
       "    </tr>\n",
       "  </thead>\n",
       "  <tbody>\n",
       "    <tr>\n",
       "      <th>count</th>\n",
       "      <td>513.000000</td>\n",
       "      <td>513.000000</td>\n",
       "      <td>513.000000</td>\n",
       "      <td>513.000000</td>\n",
       "      <td>513.000000</td>\n",
       "      <td>513.000000</td>\n",
       "      <td>513.000000</td>\n",
       "      <td>513.000000</td>\n",
       "      <td>5.130000e+02</td>\n",
       "      <td>513.000000</td>\n",
       "      <td>513.000000</td>\n",
       "      <td>513.000000</td>\n",
       "      <td>513.000000</td>\n",
       "      <td>513.000000</td>\n",
       "    </tr>\n",
       "    <tr>\n",
       "      <th>mean</th>\n",
       "      <td>0.086606</td>\n",
       "      <td>0.091376</td>\n",
       "      <td>0.022759</td>\n",
       "      <td>-0.144044</td>\n",
       "      <td>0.040312</td>\n",
       "      <td>0.004229</td>\n",
       "      <td>0.043321</td>\n",
       "      <td>0.108430</td>\n",
       "      <td>5.908361e-09</td>\n",
       "      <td>0.162077</td>\n",
       "      <td>0.076773</td>\n",
       "      <td>0.063135</td>\n",
       "      <td>-0.055365</td>\n",
       "      <td>-0.049149</td>\n",
       "    </tr>\n",
       "    <tr>\n",
       "      <th>std</th>\n",
       "      <td>0.956390</td>\n",
       "      <td>0.952531</td>\n",
       "      <td>0.919831</td>\n",
       "      <td>0.758391</td>\n",
       "      <td>0.960953</td>\n",
       "      <td>1.007307</td>\n",
       "      <td>0.953068</td>\n",
       "      <td>0.950017</td>\n",
       "      <td>1.000976e+00</td>\n",
       "      <td>0.822858</td>\n",
       "      <td>1.039130</td>\n",
       "      <td>0.983065</td>\n",
       "      <td>0.952228</td>\n",
       "      <td>0.934409</td>\n",
       "    </tr>\n",
       "    <tr>\n",
       "      <th>min</th>\n",
       "      <td>-3.844355</td>\n",
       "      <td>-4.066536</td>\n",
       "      <td>-1.830953</td>\n",
       "      <td>-1.928470</td>\n",
       "      <td>-5.937604</td>\n",
       "      <td>-5.431808</td>\n",
       "      <td>-5.101581</td>\n",
       "      <td>-2.163721</td>\n",
       "      <td>-3.339775e+00</td>\n",
       "      <td>-1.140144</td>\n",
       "      <td>-0.835508</td>\n",
       "      <td>-3.635631</td>\n",
       "      <td>-1.598094</td>\n",
       "      <td>-2.313752</td>\n",
       "    </tr>\n",
       "    <tr>\n",
       "      <th>25%</th>\n",
       "      <td>-0.460932</td>\n",
       "      <td>-0.473031</td>\n",
       "      <td>-0.679533</td>\n",
       "      <td>-0.656734</td>\n",
       "      <td>-0.449085</td>\n",
       "      <td>-0.552476</td>\n",
       "      <td>-0.474754</td>\n",
       "      <td>-0.482876</td>\n",
       "      <td>-6.518655e-01</td>\n",
       "      <td>-0.529226</td>\n",
       "      <td>-0.624811</td>\n",
       "      <td>-0.515058</td>\n",
       "      <td>-0.625073</td>\n",
       "      <td>-0.605346</td>\n",
       "    </tr>\n",
       "    <tr>\n",
       "      <th>50%</th>\n",
       "      <td>0.165628</td>\n",
       "      <td>0.122073</td>\n",
       "      <td>0.028378</td>\n",
       "      <td>-0.272709</td>\n",
       "      <td>0.125903</td>\n",
       "      <td>-0.054585</td>\n",
       "      <td>0.086074</td>\n",
       "      <td>-0.062665</td>\n",
       "      <td>-5.364196e-02</td>\n",
       "      <td>0.081693</td>\n",
       "      <td>-0.245556</td>\n",
       "      <td>0.066744</td>\n",
       "      <td>-0.182790</td>\n",
       "      <td>-0.140559</td>\n",
       "    </tr>\n",
       "    <tr>\n",
       "      <th>75%</th>\n",
       "      <td>0.729532</td>\n",
       "      <td>0.785841</td>\n",
       "      <td>0.599824</td>\n",
       "      <td>0.272718</td>\n",
       "      <td>0.596348</td>\n",
       "      <td>0.642463</td>\n",
       "      <td>0.626871</td>\n",
       "      <td>0.541389</td>\n",
       "      <td>6.838943e-01</td>\n",
       "      <td>0.692611</td>\n",
       "      <td>0.386534</td>\n",
       "      <td>0.701437</td>\n",
       "      <td>0.259492</td>\n",
       "      <td>0.437284</td>\n",
       "    </tr>\n",
       "    <tr>\n",
       "      <th>max</th>\n",
       "      <td>2.671868</td>\n",
       "      <td>2.662704</td>\n",
       "      <td>3.218241</td>\n",
       "      <td>2.949764</td>\n",
       "      <td>4.098546</td>\n",
       "      <td>3.331071</td>\n",
       "      <td>3.410980</td>\n",
       "      <td>4.533397</td>\n",
       "      <td>2.535929e+00</td>\n",
       "      <td>4.663579</td>\n",
       "      <td>8.350876</td>\n",
       "      <td>3.645706</td>\n",
       "      <td>6.982184</td>\n",
       "      <td>9.532034</td>\n",
       "    </tr>\n",
       "  </tbody>\n",
       "</table>\n",
       "</div>"
      ],
      "text/plain": [
       "       Hemoglobin  Hematocrit  Lymphocytes  Leukocytes  \\\n",
       "count  513.000000  513.000000   513.000000  513.000000   \n",
       "mean     0.086606    0.091376     0.022759   -0.144044   \n",
       "std      0.956390    0.952531     0.919831    0.758391   \n",
       "min     -3.844355   -4.066536    -1.830953   -1.928470   \n",
       "25%     -0.460932   -0.473031    -0.679533   -0.656734   \n",
       "50%      0.165628    0.122073     0.028378   -0.272709   \n",
       "75%      0.729532    0.785841     0.599824    0.272718   \n",
       "max      2.671868    2.662704     3.218241    2.949764   \n",
       "\n",
       "       Mean corpuscular hemoglobin (MCH)  \\\n",
       "count                         513.000000   \n",
       "mean                            0.040312   \n",
       "std                             0.960953   \n",
       "min                            -5.937604   \n",
       "25%                            -0.449085   \n",
       "50%                             0.125903   \n",
       "75%                             0.596348   \n",
       "max                             4.098546   \n",
       "\n",
       "       Mean corpuscular hemoglobin concentration (MCHC)  \\\n",
       "count                                        513.000000   \n",
       "mean                                           0.004229   \n",
       "std                                            1.007307   \n",
       "min                                           -5.431808   \n",
       "25%                                           -0.552476   \n",
       "50%                                           -0.054585   \n",
       "75%                                            0.642463   \n",
       "max                                            3.331071   \n",
       "\n",
       "       Mean corpuscular volume (MCV)   Monocytes   Neutrophils   Basophils  \\\n",
       "count                     513.000000  513.000000  5.130000e+02  513.000000   \n",
       "mean                        0.043321    0.108430  5.908361e-09    0.162077   \n",
       "std                         0.953068    0.950017  1.000976e+00    0.822858   \n",
       "min                        -5.101581   -2.163721 -3.339775e+00   -1.140144   \n",
       "25%                        -0.474754   -0.482876 -6.518655e-01   -0.529226   \n",
       "50%                         0.086074   -0.062665 -5.364196e-02    0.081693   \n",
       "75%                         0.626871    0.541389  6.838943e-01    0.692611   \n",
       "max                         3.410980    4.533397  2.535929e+00    4.663579   \n",
       "\n",
       "       Eosinophils  Red blood Cells  Red blood cell distribution width (RDW)  \\\n",
       "count   513.000000       513.000000                               513.000000   \n",
       "mean      0.076773         0.063135                                -0.055365   \n",
       "std       1.039130         0.983065                                 0.952228   \n",
       "min      -0.835508        -3.635631                                -1.598094   \n",
       "25%      -0.624811        -0.515058                                -0.625073   \n",
       "50%      -0.245556         0.066744                                -0.182790   \n",
       "75%       0.386534         0.701437                                 0.259492   \n",
       "max       8.350876         3.645706                                 6.982184   \n",
       "\n",
       "        Platelets  \n",
       "count  513.000000  \n",
       "mean    -0.049149  \n",
       "std      0.934409  \n",
       "min     -2.313752  \n",
       "25%     -0.605346  \n",
       "50%     -0.140559  \n",
       "75%      0.437284  \n",
       "max      9.532034  "
      ]
     },
     "execution_count": 171,
     "metadata": {},
     "output_type": "execute_result"
    }
   ],
   "source": [
    "veriler_sao_cbc = veri_saopaulo[['Hemoglobin','Hematocrit', 'Lymphocytes', 'Leukocytes'\n",
    "             ,'Mean corpuscular hemoglobin (MCH)','Mean corpuscular hemoglobin concentration (MCHC)'\n",
    "               ,'Mean corpuscular volume (MCV)','Monocytes','Neutrophils','Basophils','Eosinophils'\n",
    "               ,'Red blood Cells','Red blood cell distribution width (RDW)','Platelets','SARS-Cov-2 exam result']]\n",
    "veriler_sao_cbc = veriler_sao_cbc.dropna(axis=0)\n",
    "veriler_sao_cbc.describe()"
   ]
  },
  {
   "cell_type": "code",
   "execution_count": 172,
   "metadata": {},
   "outputs": [
    {
     "data": {
      "text/html": [
       "<div>\n",
       "<style scoped>\n",
       "    .dataframe tbody tr th:only-of-type {\n",
       "        vertical-align: middle;\n",
       "    }\n",
       "\n",
       "    .dataframe tbody tr th {\n",
       "        vertical-align: top;\n",
       "    }\n",
       "\n",
       "    .dataframe thead th {\n",
       "        text-align: right;\n",
       "    }\n",
       "</style>\n",
       "<table border=\"1\" class=\"dataframe\">\n",
       "  <thead>\n",
       "    <tr style=\"text-align: right;\">\n",
       "      <th></th>\n",
       "      <th>Hemoglobin</th>\n",
       "      <th>Hematocrit</th>\n",
       "      <th>Lymphocytes</th>\n",
       "      <th>Leukocytes</th>\n",
       "      <th>Mean corpuscular hemoglobin (MCH)</th>\n",
       "      <th>Mean corpuscular hemoglobin concentration (MCHC)</th>\n",
       "      <th>Mean corpuscular volume (MCV)</th>\n",
       "      <th>Monocytes</th>\n",
       "      <th>Neutrophils</th>\n",
       "      <th>Basophils</th>\n",
       "      <th>Eosinophils</th>\n",
       "      <th>Red blood Cells</th>\n",
       "      <th>Red blood cell distribution width (RDW)</th>\n",
       "      <th>Platelets</th>\n",
       "      <th>SARS-Cov-2 exam result</th>\n",
       "      <th>PCR_result</th>\n",
       "    </tr>\n",
       "  </thead>\n",
       "  <tbody>\n",
       "    <tr>\n",
       "      <th>1</th>\n",
       "      <td>-0.022340</td>\n",
       "      <td>0.236515</td>\n",
       "      <td>0.318366</td>\n",
       "      <td>-0.094610</td>\n",
       "      <td>-0.292269</td>\n",
       "      <td>-0.950790</td>\n",
       "      <td>0.166192</td>\n",
       "      <td>0.357547</td>\n",
       "      <td>-0.619086</td>\n",
       "      <td>-0.223767</td>\n",
       "      <td>1.482158</td>\n",
       "      <td>0.102004</td>\n",
       "      <td>-0.625073</td>\n",
       "      <td>-0.517413</td>\n",
       "      <td>negative</td>\n",
       "      <td>0</td>\n",
       "    </tr>\n",
       "    <tr>\n",
       "      <th>8</th>\n",
       "      <td>-0.774212</td>\n",
       "      <td>-1.571682</td>\n",
       "      <td>-0.005738</td>\n",
       "      <td>0.364550</td>\n",
       "      <td>0.178175</td>\n",
       "      <td>3.331071</td>\n",
       "      <td>-1.336024</td>\n",
       "      <td>0.068652</td>\n",
       "      <td>-0.127395</td>\n",
       "      <td>-0.223767</td>\n",
       "      <td>1.018625</td>\n",
       "      <td>-0.850035</td>\n",
       "      <td>-0.978899</td>\n",
       "      <td>1.429667</td>\n",
       "      <td>negative</td>\n",
       "      <td>0</td>\n",
       "    </tr>\n",
       "    <tr>\n",
       "      <th>15</th>\n",
       "      <td>-0.586244</td>\n",
       "      <td>-0.747693</td>\n",
       "      <td>-1.114514</td>\n",
       "      <td>-0.884923</td>\n",
       "      <td>1.746323</td>\n",
       "      <td>0.542882</td>\n",
       "      <td>1.668409</td>\n",
       "      <td>1.276759</td>\n",
       "      <td>0.880570</td>\n",
       "      <td>0.081693</td>\n",
       "      <td>-0.666950</td>\n",
       "      <td>-1.361315</td>\n",
       "      <td>-1.067355</td>\n",
       "      <td>-0.429480</td>\n",
       "      <td>negative</td>\n",
       "      <td>0</td>\n",
       "    </tr>\n",
       "    <tr>\n",
       "      <th>18</th>\n",
       "      <td>0.792188</td>\n",
       "      <td>0.991838</td>\n",
       "      <td>0.045436</td>\n",
       "      <td>-0.211488</td>\n",
       "      <td>0.334989</td>\n",
       "      <td>-0.452899</td>\n",
       "      <td>0.606842</td>\n",
       "      <td>-0.220244</td>\n",
       "      <td>0.265957</td>\n",
       "      <td>-0.834685</td>\n",
       "      <td>-0.709090</td>\n",
       "      <td>0.542763</td>\n",
       "      <td>0.171035</td>\n",
       "      <td>0.072992</td>\n",
       "      <td>negative</td>\n",
       "      <td>0</td>\n",
       "    </tr>\n",
       "    <tr>\n",
       "      <th>22</th>\n",
       "      <td>-0.147652</td>\n",
       "      <td>0.190738</td>\n",
       "      <td>0.002791</td>\n",
       "      <td>-1.132592</td>\n",
       "      <td>-0.083183</td>\n",
       "      <td>-1.249524</td>\n",
       "      <td>0.566783</td>\n",
       "      <td>2.012129</td>\n",
       "      <td>-0.422410</td>\n",
       "      <td>0.387152</td>\n",
       "      <td>-0.709090</td>\n",
       "      <td>-0.127191</td>\n",
       "      <td>0.613318</td>\n",
       "      <td>-0.668155</td>\n",
       "      <td>negative</td>\n",
       "      <td>0</td>\n",
       "    </tr>\n",
       "  </tbody>\n",
       "</table>\n",
       "</div>"
      ],
      "text/plain": [
       "    Hemoglobin  Hematocrit  Lymphocytes  Leukocytes  \\\n",
       "1    -0.022340    0.236515     0.318366   -0.094610   \n",
       "8    -0.774212   -1.571682    -0.005738    0.364550   \n",
       "15   -0.586244   -0.747693    -1.114514   -0.884923   \n",
       "18    0.792188    0.991838     0.045436   -0.211488   \n",
       "22   -0.147652    0.190738     0.002791   -1.132592   \n",
       "\n",
       "    Mean corpuscular hemoglobin (MCH)  \\\n",
       "1                           -0.292269   \n",
       "8                            0.178175   \n",
       "15                           1.746323   \n",
       "18                           0.334989   \n",
       "22                          -0.083183   \n",
       "\n",
       "    Mean corpuscular hemoglobin concentration (MCHC)  \\\n",
       "1                                          -0.950790   \n",
       "8                                           3.331071   \n",
       "15                                          0.542882   \n",
       "18                                         -0.452899   \n",
       "22                                         -1.249524   \n",
       "\n",
       "    Mean corpuscular volume (MCV)  Monocytes  Neutrophils  Basophils  \\\n",
       "1                        0.166192   0.357547    -0.619086  -0.223767   \n",
       "8                       -1.336024   0.068652    -0.127395  -0.223767   \n",
       "15                       1.668409   1.276759     0.880570   0.081693   \n",
       "18                       0.606842  -0.220244     0.265957  -0.834685   \n",
       "22                       0.566783   2.012129    -0.422410   0.387152   \n",
       "\n",
       "    Eosinophils  Red blood Cells  Red blood cell distribution width (RDW)  \\\n",
       "1      1.482158         0.102004                                -0.625073   \n",
       "8      1.018625        -0.850035                                -0.978899   \n",
       "15    -0.666950        -1.361315                                -1.067355   \n",
       "18    -0.709090         0.542763                                 0.171035   \n",
       "22    -0.709090        -0.127191                                 0.613318   \n",
       "\n",
       "    Platelets SARS-Cov-2 exam result  PCR_result  \n",
       "1   -0.517413               negative           0  \n",
       "8    1.429667               negative           0  \n",
       "15  -0.429480               negative           0  \n",
       "18   0.072992               negative           0  \n",
       "22  -0.668155               negative           0  "
      ]
     },
     "execution_count": 172,
     "metadata": {},
     "output_type": "execute_result"
    }
   ],
   "source": [
    "# PCR result to integer (0: negative, 1: positive)\n",
    "\n",
    "from sklearn.preprocessing import LabelEncoder\n",
    "\n",
    "le = LabelEncoder()\n",
    "veriler_sao_cbc[\"PCR_result\"] = le.fit_transform(veriler_sao_cbc[\"SARS-Cov-2 exam result\"])\n",
    "veriler_sao_cbc.head()"
   ]
  },
  {
   "cell_type": "code",
   "execution_count": 173,
   "metadata": {},
   "outputs": [
    {
     "name": "stdout",
     "output_type": "stream",
     "text": [
      "total number of pcr results:  513\n",
      "number of positive pcr results:  75\n",
      "number of negative pcr results:  438\n"
     ]
    }
   ],
   "source": [
    "# Sao Paulo Data\n",
    "print('total number of pcr results: ',len(veriler_sao_cbc['SARS-Cov-2 exam result']))\n",
    "print('number of positive pcr results: ',len(veriler_sao_cbc[veriler_sao_cbc['SARS-Cov-2 exam result']=='positive']))\n",
    "print('number of negative pcr results: ',len(veriler_sao_cbc[veriler_sao_cbc['SARS-Cov-2 exam result']=='negative']))"
   ]
  },
  {
   "cell_type": "code",
   "execution_count": 174,
   "metadata": {},
   "outputs": [],
   "source": [
    "# select random 75 rows to reach balanced data\n",
    "\n",
    "saopaulo_negative = veriler_sao_cbc[veriler_sao_cbc['SARS-Cov-2 exam result']=='negative']\n",
    "saopaulo_negative75 = saopaulo_negative.sample(n = 75)"
   ]
  },
  {
   "cell_type": "code",
   "execution_count": 175,
   "metadata": {},
   "outputs": [
    {
     "data": {
      "text/html": [
       "<div>\n",
       "<style scoped>\n",
       "    .dataframe tbody tr th:only-of-type {\n",
       "        vertical-align: middle;\n",
       "    }\n",
       "\n",
       "    .dataframe tbody tr th {\n",
       "        vertical-align: top;\n",
       "    }\n",
       "\n",
       "    .dataframe thead th {\n",
       "        text-align: right;\n",
       "    }\n",
       "</style>\n",
       "<table border=\"1\" class=\"dataframe\">\n",
       "  <thead>\n",
       "    <tr style=\"text-align: right;\">\n",
       "      <th></th>\n",
       "      <th>Hemoglobin</th>\n",
       "      <th>Hematocrit</th>\n",
       "      <th>Lymphocytes</th>\n",
       "      <th>Leukocytes</th>\n",
       "      <th>Mean corpuscular hemoglobin (MCH)</th>\n",
       "      <th>Mean corpuscular hemoglobin concentration (MCHC)</th>\n",
       "      <th>Mean corpuscular volume (MCV)</th>\n",
       "      <th>Monocytes</th>\n",
       "      <th>Neutrophils</th>\n",
       "      <th>Basophils</th>\n",
       "      <th>Eosinophils</th>\n",
       "      <th>Red blood Cells</th>\n",
       "      <th>Red blood cell distribution width (RDW)</th>\n",
       "      <th>Platelets</th>\n",
       "      <th>SARS-Cov-2 exam result</th>\n",
       "      <th>PCR_result</th>\n",
       "    </tr>\n",
       "  </thead>\n",
       "  <tbody>\n",
       "    <tr>\n",
       "      <th>203</th>\n",
       "      <td>0.854844</td>\n",
       "      <td>1.174947</td>\n",
       "      <td>-0.193377</td>\n",
       "      <td>-0.317234</td>\n",
       "      <td>-0.083183</td>\n",
       "      <td>-0.851210</td>\n",
       "      <td>0.366488</td>\n",
       "      <td>0.042388</td>\n",
       "      <td>-0.053642</td>\n",
       "      <td>-0.223767</td>\n",
       "      <td>1.608576</td>\n",
       "      <td>0.824849</td>\n",
       "      <td>-0.448160</td>\n",
       "      <td>-1.019885</td>\n",
       "      <td>negative</td>\n",
       "      <td>0</td>\n",
       "    </tr>\n",
       "    <tr>\n",
       "      <th>403</th>\n",
       "      <td>0.102972</td>\n",
       "      <td>0.030518</td>\n",
       "      <td>-1.387443</td>\n",
       "      <td>1.046335</td>\n",
       "      <td>0.230447</td>\n",
       "      <td>0.343725</td>\n",
       "      <td>0.126132</td>\n",
       "      <td>0.278757</td>\n",
       "      <td>1.511574</td>\n",
       "      <td>-0.834685</td>\n",
       "      <td>-0.835508</td>\n",
       "      <td>-0.056669</td>\n",
       "      <td>-0.005877</td>\n",
       "      <td>-0.705840</td>\n",
       "      <td>negative</td>\n",
       "      <td>0</td>\n",
       "    </tr>\n",
       "    <tr>\n",
       "      <th>576</th>\n",
       "      <td>1.418748</td>\n",
       "      <td>1.518275</td>\n",
       "      <td>0.292779</td>\n",
       "      <td>-0.709607</td>\n",
       "      <td>-0.710443</td>\n",
       "      <td>-0.054585</td>\n",
       "      <td>-0.815256</td>\n",
       "      <td>-0.351560</td>\n",
       "      <td>-0.143785</td>\n",
       "      <td>0.692611</td>\n",
       "      <td>0.175837</td>\n",
       "      <td>1.794518</td>\n",
       "      <td>-0.359703</td>\n",
       "      <td>0.123239</td>\n",
       "      <td>negative</td>\n",
       "      <td>0</td>\n",
       "    </tr>\n",
       "    <tr>\n",
       "      <th>3992</th>\n",
       "      <td>0.290940</td>\n",
       "      <td>0.488289</td>\n",
       "      <td>-0.918346</td>\n",
       "      <td>0.322808</td>\n",
       "      <td>0.909977</td>\n",
       "      <td>-0.652057</td>\n",
       "      <td>1.367966</td>\n",
       "      <td>-0.482876</td>\n",
       "      <td>1.134611</td>\n",
       "      <td>-0.834685</td>\n",
       "      <td>0.007280</td>\n",
       "      <td>-0.232973</td>\n",
       "      <td>0.967144</td>\n",
       "      <td>0.374475</td>\n",
       "      <td>negative</td>\n",
       "      <td>0</td>\n",
       "    </tr>\n",
       "    <tr>\n",
       "      <th>5618</th>\n",
       "      <td>-2.779203</td>\n",
       "      <td>-3.242548</td>\n",
       "      <td>-1.830953</td>\n",
       "      <td>-1.733675</td>\n",
       "      <td>2.059952</td>\n",
       "      <td>1.538664</td>\n",
       "      <td>1.408024</td>\n",
       "      <td>1.381812</td>\n",
       "      <td>1.552548</td>\n",
       "      <td>-1.140144</td>\n",
       "      <td>-0.582671</td>\n",
       "      <td>-3.318285</td>\n",
       "      <td>-0.448160</td>\n",
       "      <td>-1.773594</td>\n",
       "      <td>negative</td>\n",
       "      <td>0</td>\n",
       "    </tr>\n",
       "    <tr>\n",
       "      <th>...</th>\n",
       "      <td>...</td>\n",
       "      <td>...</td>\n",
       "      <td>...</td>\n",
       "      <td>...</td>\n",
       "      <td>...</td>\n",
       "      <td>...</td>\n",
       "      <td>...</td>\n",
       "      <td>...</td>\n",
       "      <td>...</td>\n",
       "      <td>...</td>\n",
       "      <td>...</td>\n",
       "      <td>...</td>\n",
       "      <td>...</td>\n",
       "      <td>...</td>\n",
       "      <td>...</td>\n",
       "      <td>...</td>\n",
       "    </tr>\n",
       "    <tr>\n",
       "      <th>1281</th>\n",
       "      <td>-0.210308</td>\n",
       "      <td>-0.221256</td>\n",
       "      <td>1.930355</td>\n",
       "      <td>0.086271</td>\n",
       "      <td>1.014521</td>\n",
       "      <td>0.044991</td>\n",
       "      <td>1.107581</td>\n",
       "      <td>-0.456613</td>\n",
       "      <td>-1.487740</td>\n",
       "      <td>-0.834685</td>\n",
       "      <td>-0.624811</td>\n",
       "      <td>-0.708992</td>\n",
       "      <td>-0.182790</td>\n",
       "      <td>0.512655</td>\n",
       "      <td>negative</td>\n",
       "      <td>0</td>\n",
       "    </tr>\n",
       "    <tr>\n",
       "      <th>3378</th>\n",
       "      <td>0.040316</td>\n",
       "      <td>0.236515</td>\n",
       "      <td>-1.029223</td>\n",
       "      <td>0.364550</td>\n",
       "      <td>0.491805</td>\n",
       "      <td>-0.652057</td>\n",
       "      <td>0.927315</td>\n",
       "      <td>0.777758</td>\n",
       "      <td>0.831401</td>\n",
       "      <td>-0.529226</td>\n",
       "      <td>0.049419</td>\n",
       "      <td>-0.250603</td>\n",
       "      <td>1.320970</td>\n",
       "      <td>-0.479728</td>\n",
       "      <td>negative</td>\n",
       "      <td>0</td>\n",
       "    </tr>\n",
       "    <tr>\n",
       "      <th>71</th>\n",
       "      <td>0.290940</td>\n",
       "      <td>0.671398</td>\n",
       "      <td>0.173372</td>\n",
       "      <td>-0.653951</td>\n",
       "      <td>-0.501356</td>\n",
       "      <td>-1.249524</td>\n",
       "      <td>0.086074</td>\n",
       "      <td>1.250496</td>\n",
       "      <td>-0.356851</td>\n",
       "      <td>0.081693</td>\n",
       "      <td>-0.624811</td>\n",
       "      <td>0.525133</td>\n",
       "      <td>-0.182790</td>\n",
       "      <td>0.135801</td>\n",
       "      <td>negative</td>\n",
       "      <td>0</td>\n",
       "    </tr>\n",
       "    <tr>\n",
       "      <th>22</th>\n",
       "      <td>-0.147652</td>\n",
       "      <td>0.190738</td>\n",
       "      <td>0.002791</td>\n",
       "      <td>-1.132592</td>\n",
       "      <td>-0.083183</td>\n",
       "      <td>-1.249524</td>\n",
       "      <td>0.566783</td>\n",
       "      <td>2.012129</td>\n",
       "      <td>-0.422410</td>\n",
       "      <td>0.387152</td>\n",
       "      <td>-0.709090</td>\n",
       "      <td>-0.127191</td>\n",
       "      <td>0.613318</td>\n",
       "      <td>-0.668155</td>\n",
       "      <td>negative</td>\n",
       "      <td>0</td>\n",
       "    </tr>\n",
       "    <tr>\n",
       "      <th>5057</th>\n",
       "      <td>0.604220</td>\n",
       "      <td>0.305181</td>\n",
       "      <td>-0.108086</td>\n",
       "      <td>0.751358</td>\n",
       "      <td>-0.396813</td>\n",
       "      <td>1.239930</td>\n",
       "      <td>-1.035581</td>\n",
       "      <td>-0.404086</td>\n",
       "      <td>0.331516</td>\n",
       "      <td>1.303529</td>\n",
       "      <td>-0.287696</td>\n",
       "      <td>0.789588</td>\n",
       "      <td>-0.182790</td>\n",
       "      <td>0.701083</td>\n",
       "      <td>negative</td>\n",
       "      <td>0</td>\n",
       "    </tr>\n",
       "  </tbody>\n",
       "</table>\n",
       "<p>75 rows × 16 columns</p>\n",
       "</div>"
      ],
      "text/plain": [
       "      Hemoglobin  Hematocrit  Lymphocytes  Leukocytes  \\\n",
       "203     0.854844    1.174947    -0.193377   -0.317234   \n",
       "403     0.102972    0.030518    -1.387443    1.046335   \n",
       "576     1.418748    1.518275     0.292779   -0.709607   \n",
       "3992    0.290940    0.488289    -0.918346    0.322808   \n",
       "5618   -2.779203   -3.242548    -1.830953   -1.733675   \n",
       "...          ...         ...          ...         ...   \n",
       "1281   -0.210308   -0.221256     1.930355    0.086271   \n",
       "3378    0.040316    0.236515    -1.029223    0.364550   \n",
       "71      0.290940    0.671398     0.173372   -0.653951   \n",
       "22     -0.147652    0.190738     0.002791   -1.132592   \n",
       "5057    0.604220    0.305181    -0.108086    0.751358   \n",
       "\n",
       "      Mean corpuscular hemoglobin (MCH)  \\\n",
       "203                           -0.083183   \n",
       "403                            0.230447   \n",
       "576                           -0.710443   \n",
       "3992                           0.909977   \n",
       "5618                           2.059952   \n",
       "...                                 ...   \n",
       "1281                           1.014521   \n",
       "3378                           0.491805   \n",
       "71                            -0.501356   \n",
       "22                            -0.083183   \n",
       "5057                          -0.396813   \n",
       "\n",
       "      Mean corpuscular hemoglobin concentration (MCHC)  \\\n",
       "203                                          -0.851210   \n",
       "403                                           0.343725   \n",
       "576                                          -0.054585   \n",
       "3992                                         -0.652057   \n",
       "5618                                          1.538664   \n",
       "...                                                ...   \n",
       "1281                                          0.044991   \n",
       "3378                                         -0.652057   \n",
       "71                                           -1.249524   \n",
       "22                                           -1.249524   \n",
       "5057                                          1.239930   \n",
       "\n",
       "      Mean corpuscular volume (MCV)  Monocytes  Neutrophils  Basophils  \\\n",
       "203                        0.366488   0.042388    -0.053642  -0.223767   \n",
       "403                        0.126132   0.278757     1.511574  -0.834685   \n",
       "576                       -0.815256  -0.351560    -0.143785   0.692611   \n",
       "3992                       1.367966  -0.482876     1.134611  -0.834685   \n",
       "5618                       1.408024   1.381812     1.552548  -1.140144   \n",
       "...                             ...        ...          ...        ...   \n",
       "1281                       1.107581  -0.456613    -1.487740  -0.834685   \n",
       "3378                       0.927315   0.777758     0.831401  -0.529226   \n",
       "71                         0.086074   1.250496    -0.356851   0.081693   \n",
       "22                         0.566783   2.012129    -0.422410   0.387152   \n",
       "5057                      -1.035581  -0.404086     0.331516   1.303529   \n",
       "\n",
       "      Eosinophils  Red blood Cells  Red blood cell distribution width (RDW)  \\\n",
       "203      1.608576         0.824849                                -0.448160   \n",
       "403     -0.835508        -0.056669                                -0.005877   \n",
       "576      0.175837         1.794518                                -0.359703   \n",
       "3992     0.007280        -0.232973                                 0.967144   \n",
       "5618    -0.582671        -3.318285                                -0.448160   \n",
       "...           ...              ...                                      ...   \n",
       "1281    -0.624811        -0.708992                                -0.182790   \n",
       "3378     0.049419        -0.250603                                 1.320970   \n",
       "71      -0.624811         0.525133                                -0.182790   \n",
       "22      -0.709090        -0.127191                                 0.613318   \n",
       "5057    -0.287696         0.789588                                -0.182790   \n",
       "\n",
       "      Platelets SARS-Cov-2 exam result  PCR_result  \n",
       "203   -1.019885               negative           0  \n",
       "403   -0.705840               negative           0  \n",
       "576    0.123239               negative           0  \n",
       "3992   0.374475               negative           0  \n",
       "5618  -1.773594               negative           0  \n",
       "...         ...                    ...         ...  \n",
       "1281   0.512655               negative           0  \n",
       "3378  -0.479728               negative           0  \n",
       "71     0.135801               negative           0  \n",
       "22    -0.668155               negative           0  \n",
       "5057   0.701083               negative           0  \n",
       "\n",
       "[75 rows x 16 columns]"
      ]
     },
     "execution_count": 175,
     "metadata": {},
     "output_type": "execute_result"
    }
   ],
   "source": [
    "saopaulo_negative75"
   ]
  },
  {
   "cell_type": "code",
   "execution_count": 176,
   "metadata": {},
   "outputs": [],
   "source": [
    "saopaulo_positive75 = veriler_sao_cbc[veriler_sao_cbc['SARS-Cov-2 exam result']=='positive']"
   ]
  },
  {
   "cell_type": "code",
   "execution_count": 177,
   "metadata": {},
   "outputs": [
    {
     "data": {
      "text/html": [
       "<div>\n",
       "<style scoped>\n",
       "    .dataframe tbody tr th:only-of-type {\n",
       "        vertical-align: middle;\n",
       "    }\n",
       "\n",
       "    .dataframe tbody tr th {\n",
       "        vertical-align: top;\n",
       "    }\n",
       "\n",
       "    .dataframe thead th {\n",
       "        text-align: right;\n",
       "    }\n",
       "</style>\n",
       "<table border=\"1\" class=\"dataframe\">\n",
       "  <thead>\n",
       "    <tr style=\"text-align: right;\">\n",
       "      <th></th>\n",
       "      <th>Hemoglobin</th>\n",
       "      <th>Hematocrit</th>\n",
       "      <th>Lymphocytes</th>\n",
       "      <th>Leukocytes</th>\n",
       "      <th>Mean corpuscular hemoglobin (MCH)</th>\n",
       "      <th>Mean corpuscular hemoglobin concentration (MCHC)</th>\n",
       "      <th>Mean corpuscular volume (MCV)</th>\n",
       "      <th>Monocytes</th>\n",
       "      <th>Neutrophils</th>\n",
       "      <th>Basophils</th>\n",
       "      <th>Eosinophils</th>\n",
       "      <th>Red blood Cells</th>\n",
       "      <th>Red blood cell distribution width (RDW)</th>\n",
       "      <th>Platelets</th>\n",
       "      <th>SARS-Cov-2 exam result</th>\n",
       "      <th>PCR_result</th>\n",
       "    </tr>\n",
       "  </thead>\n",
       "  <tbody>\n",
       "    <tr>\n",
       "      <th>568</th>\n",
       "      <td>0.792188</td>\n",
       "      <td>0.991838</td>\n",
       "      <td>-0.048383</td>\n",
       "      <td>-0.420197</td>\n",
       "      <td>-1.442245</td>\n",
       "      <td>-0.452899</td>\n",
       "      <td>-1.396114</td>\n",
       "      <td>1.933339</td>\n",
       "      <td>-0.414215</td>\n",
       "      <td>1.303529</td>\n",
       "      <td>-0.498393</td>\n",
       "      <td>1.653476</td>\n",
       "      <td>0.967144</td>\n",
       "      <td>-0.341548</td>\n",
       "      <td>positive</td>\n",
       "      <td>1</td>\n",
       "    </tr>\n",
       "    <tr>\n",
       "      <th>884</th>\n",
       "      <td>-0.398276</td>\n",
       "      <td>-0.495919</td>\n",
       "      <td>-0.935404</td>\n",
       "      <td>-0.820919</td>\n",
       "      <td>0.334989</td>\n",
       "      <td>0.244149</td>\n",
       "      <td>0.226280</td>\n",
       "      <td>-0.456613</td>\n",
       "      <td>1.282118</td>\n",
       "      <td>-1.140144</td>\n",
       "      <td>-0.666950</td>\n",
       "      <td>-0.567950</td>\n",
       "      <td>-0.978899</td>\n",
       "      <td>-0.718402</td>\n",
       "      <td>positive</td>\n",
       "      <td>1</td>\n",
       "    </tr>\n",
       "    <tr>\n",
       "      <th>1108</th>\n",
       "      <td>-0.648900</td>\n",
       "      <td>-0.312811</td>\n",
       "      <td>-0.099557</td>\n",
       "      <td>-0.968407</td>\n",
       "      <td>0.021361</td>\n",
       "      <td>-1.448681</td>\n",
       "      <td>0.807138</td>\n",
       "      <td>1.513128</td>\n",
       "      <td>-0.315877</td>\n",
       "      <td>-0.529226</td>\n",
       "      <td>0.175837</td>\n",
       "      <td>-0.656101</td>\n",
       "      <td>0.347948</td>\n",
       "      <td>-0.027502</td>\n",
       "      <td>positive</td>\n",
       "      <td>1</td>\n",
       "    </tr>\n",
       "    <tr>\n",
       "      <th>1162</th>\n",
       "      <td>-0.272964</td>\n",
       "      <td>-0.518807</td>\n",
       "      <td>-0.457777</td>\n",
       "      <td>-0.573250</td>\n",
       "      <td>0.439533</td>\n",
       "      <td>0.941197</td>\n",
       "      <td>0.066045</td>\n",
       "      <td>2.537393</td>\n",
       "      <td>-0.127395</td>\n",
       "      <td>-0.223767</td>\n",
       "      <td>-0.709090</td>\n",
       "      <td>-0.515058</td>\n",
       "      <td>-0.801985</td>\n",
       "      <td>-0.215930</td>\n",
       "      <td>positive</td>\n",
       "      <td>1</td>\n",
       "    </tr>\n",
       "    <tr>\n",
       "      <th>1293</th>\n",
       "      <td>0.729532</td>\n",
       "      <td>0.694287</td>\n",
       "      <td>-0.636887</td>\n",
       "      <td>-0.606644</td>\n",
       "      <td>0.125903</td>\n",
       "      <td>0.343725</td>\n",
       "      <td>-0.014074</td>\n",
       "      <td>0.882811</td>\n",
       "      <td>0.446244</td>\n",
       "      <td>-0.223767</td>\n",
       "      <td>-0.119138</td>\n",
       "      <td>0.595655</td>\n",
       "      <td>-0.713529</td>\n",
       "      <td>-0.743526</td>\n",
       "      <td>positive</td>\n",
       "      <td>1</td>\n",
       "    </tr>\n",
       "    <tr>\n",
       "      <th>...</th>\n",
       "      <td>...</td>\n",
       "      <td>...</td>\n",
       "      <td>...</td>\n",
       "      <td>...</td>\n",
       "      <td>...</td>\n",
       "      <td>...</td>\n",
       "      <td>...</td>\n",
       "      <td>...</td>\n",
       "      <td>...</td>\n",
       "      <td>...</td>\n",
       "      <td>...</td>\n",
       "      <td>...</td>\n",
       "      <td>...</td>\n",
       "      <td>...</td>\n",
       "      <td>...</td>\n",
       "      <td>...</td>\n",
       "    </tr>\n",
       "    <tr>\n",
       "      <th>5540</th>\n",
       "      <td>0.040316</td>\n",
       "      <td>-0.312811</td>\n",
       "      <td>1.589193</td>\n",
       "      <td>-1.285645</td>\n",
       "      <td>0.700891</td>\n",
       "      <td>1.339507</td>\n",
       "      <td>0.066045</td>\n",
       "      <td>-0.456613</td>\n",
       "      <td>-1.209115</td>\n",
       "      <td>-0.223767</td>\n",
       "      <td>-0.456253</td>\n",
       "      <td>-0.338755</td>\n",
       "      <td>0.347948</td>\n",
       "      <td>-0.592784</td>\n",
       "      <td>positive</td>\n",
       "      <td>1</td>\n",
       "    </tr>\n",
       "    <tr>\n",
       "      <th>5564</th>\n",
       "      <td>0.604220</td>\n",
       "      <td>1.152058</td>\n",
       "      <td>-0.679533</td>\n",
       "      <td>-0.662300</td>\n",
       "      <td>-0.658171</td>\n",
       "      <td>-1.647838</td>\n",
       "      <td>0.126132</td>\n",
       "      <td>0.488863</td>\n",
       "      <td>0.667504</td>\n",
       "      <td>0.081693</td>\n",
       "      <td>-0.456253</td>\n",
       "      <td>0.930631</td>\n",
       "      <td>-0.890442</td>\n",
       "      <td>-0.529975</td>\n",
       "      <td>positive</td>\n",
       "      <td>1</td>\n",
       "    </tr>\n",
       "    <tr>\n",
       "      <th>5566</th>\n",
       "      <td>1.042812</td>\n",
       "      <td>1.106281</td>\n",
       "      <td>-0.483364</td>\n",
       "      <td>0.155841</td>\n",
       "      <td>0.073631</td>\n",
       "      <td>0.044991</td>\n",
       "      <td>0.046015</td>\n",
       "      <td>-0.640455</td>\n",
       "      <td>0.913350</td>\n",
       "      <td>-0.529226</td>\n",
       "      <td>-0.793368</td>\n",
       "      <td>0.930631</td>\n",
       "      <td>0.171035</td>\n",
       "      <td>-0.253615</td>\n",
       "      <td>positive</td>\n",
       "      <td>1</td>\n",
       "    </tr>\n",
       "    <tr>\n",
       "      <th>5585</th>\n",
       "      <td>1.356092</td>\n",
       "      <td>1.197836</td>\n",
       "      <td>0.966573</td>\n",
       "      <td>-0.834833</td>\n",
       "      <td>1.589509</td>\n",
       "      <td>0.841616</td>\n",
       "      <td>1.307876</td>\n",
       "      <td>1.197969</td>\n",
       "      <td>-1.094387</td>\n",
       "      <td>-0.529226</td>\n",
       "      <td>-0.582671</td>\n",
       "      <td>0.384090</td>\n",
       "      <td>-0.094334</td>\n",
       "      <td>-1.911774</td>\n",
       "      <td>positive</td>\n",
       "      <td>1</td>\n",
       "    </tr>\n",
       "    <tr>\n",
       "      <th>5643</th>\n",
       "      <td>0.541564</td>\n",
       "      <td>0.694287</td>\n",
       "      <td>-0.295726</td>\n",
       "      <td>-1.288428</td>\n",
       "      <td>-0.135455</td>\n",
       "      <td>-0.353319</td>\n",
       "      <td>0.025985</td>\n",
       "      <td>0.567652</td>\n",
       "      <td>0.380685</td>\n",
       "      <td>-1.140144</td>\n",
       "      <td>-0.835508</td>\n",
       "      <td>0.578024</td>\n",
       "      <td>-0.182790</td>\n",
       "      <td>-0.906829</td>\n",
       "      <td>positive</td>\n",
       "      <td>1</td>\n",
       "    </tr>\n",
       "  </tbody>\n",
       "</table>\n",
       "<p>75 rows × 16 columns</p>\n",
       "</div>"
      ],
      "text/plain": [
       "      Hemoglobin  Hematocrit  Lymphocytes  Leukocytes  \\\n",
       "568     0.792188    0.991838    -0.048383   -0.420197   \n",
       "884    -0.398276   -0.495919    -0.935404   -0.820919   \n",
       "1108   -0.648900   -0.312811    -0.099557   -0.968407   \n",
       "1162   -0.272964   -0.518807    -0.457777   -0.573250   \n",
       "1293    0.729532    0.694287    -0.636887   -0.606644   \n",
       "...          ...         ...          ...         ...   \n",
       "5540    0.040316   -0.312811     1.589193   -1.285645   \n",
       "5564    0.604220    1.152058    -0.679533   -0.662300   \n",
       "5566    1.042812    1.106281    -0.483364    0.155841   \n",
       "5585    1.356092    1.197836     0.966573   -0.834833   \n",
       "5643    0.541564    0.694287    -0.295726   -1.288428   \n",
       "\n",
       "      Mean corpuscular hemoglobin (MCH)  \\\n",
       "568                           -1.442245   \n",
       "884                            0.334989   \n",
       "1108                           0.021361   \n",
       "1162                           0.439533   \n",
       "1293                           0.125903   \n",
       "...                                 ...   \n",
       "5540                           0.700891   \n",
       "5564                          -0.658171   \n",
       "5566                           0.073631   \n",
       "5585                           1.589509   \n",
       "5643                          -0.135455   \n",
       "\n",
       "      Mean corpuscular hemoglobin concentration (MCHC)  \\\n",
       "568                                          -0.452899   \n",
       "884                                           0.244149   \n",
       "1108                                         -1.448681   \n",
       "1162                                          0.941197   \n",
       "1293                                          0.343725   \n",
       "...                                                ...   \n",
       "5540                                          1.339507   \n",
       "5564                                         -1.647838   \n",
       "5566                                          0.044991   \n",
       "5585                                          0.841616   \n",
       "5643                                         -0.353319   \n",
       "\n",
       "      Mean corpuscular volume (MCV)  Monocytes  Neutrophils  Basophils  \\\n",
       "568                       -1.396114   1.933339    -0.414215   1.303529   \n",
       "884                        0.226280  -0.456613     1.282118  -1.140144   \n",
       "1108                       0.807138   1.513128    -0.315877  -0.529226   \n",
       "1162                       0.066045   2.537393    -0.127395  -0.223767   \n",
       "1293                      -0.014074   0.882811     0.446244  -0.223767   \n",
       "...                             ...        ...          ...        ...   \n",
       "5540                       0.066045  -0.456613    -1.209115  -0.223767   \n",
       "5564                       0.126132   0.488863     0.667504   0.081693   \n",
       "5566                       0.046015  -0.640455     0.913350  -0.529226   \n",
       "5585                       1.307876   1.197969    -1.094387  -0.529226   \n",
       "5643                       0.025985   0.567652     0.380685  -1.140144   \n",
       "\n",
       "      Eosinophils  Red blood Cells  Red blood cell distribution width (RDW)  \\\n",
       "568     -0.498393         1.653476                                 0.967144   \n",
       "884     -0.666950        -0.567950                                -0.978899   \n",
       "1108     0.175837        -0.656101                                 0.347948   \n",
       "1162    -0.709090        -0.515058                                -0.801985   \n",
       "1293    -0.119138         0.595655                                -0.713529   \n",
       "...           ...              ...                                      ...   \n",
       "5540    -0.456253        -0.338755                                 0.347948   \n",
       "5564    -0.456253         0.930631                                -0.890442   \n",
       "5566    -0.793368         0.930631                                 0.171035   \n",
       "5585    -0.582671         0.384090                                -0.094334   \n",
       "5643    -0.835508         0.578024                                -0.182790   \n",
       "\n",
       "      Platelets SARS-Cov-2 exam result  PCR_result  \n",
       "568   -0.341548               positive           1  \n",
       "884   -0.718402               positive           1  \n",
       "1108  -0.027502               positive           1  \n",
       "1162  -0.215930               positive           1  \n",
       "1293  -0.743526               positive           1  \n",
       "...         ...                    ...         ...  \n",
       "5540  -0.592784               positive           1  \n",
       "5564  -0.529975               positive           1  \n",
       "5566  -0.253615               positive           1  \n",
       "5585  -1.911774               positive           1  \n",
       "5643  -0.906829               positive           1  \n",
       "\n",
       "[75 rows x 16 columns]"
      ]
     },
     "execution_count": 177,
     "metadata": {},
     "output_type": "execute_result"
    }
   ],
   "source": [
    "saopaulo_positive75"
   ]
  },
  {
   "cell_type": "code",
   "execution_count": 178,
   "metadata": {},
   "outputs": [],
   "source": [
    "#concatinating positive and negative datasets\n",
    "\n",
    "saopaulo_last = [saopaulo_positive75,saopaulo_negative75]\n",
    "\n",
    "saopaulo_lastdf = pd.concat(saopaulo_last)"
   ]
  },
  {
   "cell_type": "code",
   "execution_count": 179,
   "metadata": {},
   "outputs": [
    {
     "data": {
      "text/html": [
       "<div>\n",
       "<style scoped>\n",
       "    .dataframe tbody tr th:only-of-type {\n",
       "        vertical-align: middle;\n",
       "    }\n",
       "\n",
       "    .dataframe tbody tr th {\n",
       "        vertical-align: top;\n",
       "    }\n",
       "\n",
       "    .dataframe thead th {\n",
       "        text-align: right;\n",
       "    }\n",
       "</style>\n",
       "<table border=\"1\" class=\"dataframe\">\n",
       "  <thead>\n",
       "    <tr style=\"text-align: right;\">\n",
       "      <th></th>\n",
       "      <th>Hemoglobin</th>\n",
       "      <th>Hematocrit</th>\n",
       "      <th>Lymphocytes</th>\n",
       "      <th>Leukocytes</th>\n",
       "      <th>Mean corpuscular hemoglobin (MCH)</th>\n",
       "      <th>Mean corpuscular hemoglobin concentration (MCHC)</th>\n",
       "      <th>Mean corpuscular volume (MCV)</th>\n",
       "      <th>Monocytes</th>\n",
       "      <th>Neutrophils</th>\n",
       "      <th>Basophils</th>\n",
       "      <th>Eosinophils</th>\n",
       "      <th>Red blood Cells</th>\n",
       "      <th>Red blood cell distribution width (RDW)</th>\n",
       "      <th>Platelets</th>\n",
       "      <th>SARS-Cov-2 exam result</th>\n",
       "      <th>PCR_result</th>\n",
       "    </tr>\n",
       "  </thead>\n",
       "  <tbody>\n",
       "    <tr>\n",
       "      <th>568</th>\n",
       "      <td>0.792188</td>\n",
       "      <td>0.991838</td>\n",
       "      <td>-0.048383</td>\n",
       "      <td>-0.420197</td>\n",
       "      <td>-1.442245</td>\n",
       "      <td>-0.452899</td>\n",
       "      <td>-1.396114</td>\n",
       "      <td>1.933339</td>\n",
       "      <td>-0.414215</td>\n",
       "      <td>1.303529</td>\n",
       "      <td>-0.498393</td>\n",
       "      <td>1.653476</td>\n",
       "      <td>0.967144</td>\n",
       "      <td>-0.341548</td>\n",
       "      <td>positive</td>\n",
       "      <td>1</td>\n",
       "    </tr>\n",
       "    <tr>\n",
       "      <th>884</th>\n",
       "      <td>-0.398276</td>\n",
       "      <td>-0.495919</td>\n",
       "      <td>-0.935404</td>\n",
       "      <td>-0.820919</td>\n",
       "      <td>0.334989</td>\n",
       "      <td>0.244149</td>\n",
       "      <td>0.226280</td>\n",
       "      <td>-0.456613</td>\n",
       "      <td>1.282118</td>\n",
       "      <td>-1.140144</td>\n",
       "      <td>-0.666950</td>\n",
       "      <td>-0.567950</td>\n",
       "      <td>-0.978899</td>\n",
       "      <td>-0.718402</td>\n",
       "      <td>positive</td>\n",
       "      <td>1</td>\n",
       "    </tr>\n",
       "    <tr>\n",
       "      <th>1108</th>\n",
       "      <td>-0.648900</td>\n",
       "      <td>-0.312811</td>\n",
       "      <td>-0.099557</td>\n",
       "      <td>-0.968407</td>\n",
       "      <td>0.021361</td>\n",
       "      <td>-1.448681</td>\n",
       "      <td>0.807138</td>\n",
       "      <td>1.513128</td>\n",
       "      <td>-0.315877</td>\n",
       "      <td>-0.529226</td>\n",
       "      <td>0.175837</td>\n",
       "      <td>-0.656101</td>\n",
       "      <td>0.347948</td>\n",
       "      <td>-0.027502</td>\n",
       "      <td>positive</td>\n",
       "      <td>1</td>\n",
       "    </tr>\n",
       "    <tr>\n",
       "      <th>1162</th>\n",
       "      <td>-0.272964</td>\n",
       "      <td>-0.518807</td>\n",
       "      <td>-0.457777</td>\n",
       "      <td>-0.573250</td>\n",
       "      <td>0.439533</td>\n",
       "      <td>0.941197</td>\n",
       "      <td>0.066045</td>\n",
       "      <td>2.537393</td>\n",
       "      <td>-0.127395</td>\n",
       "      <td>-0.223767</td>\n",
       "      <td>-0.709090</td>\n",
       "      <td>-0.515058</td>\n",
       "      <td>-0.801985</td>\n",
       "      <td>-0.215930</td>\n",
       "      <td>positive</td>\n",
       "      <td>1</td>\n",
       "    </tr>\n",
       "    <tr>\n",
       "      <th>1293</th>\n",
       "      <td>0.729532</td>\n",
       "      <td>0.694287</td>\n",
       "      <td>-0.636887</td>\n",
       "      <td>-0.606644</td>\n",
       "      <td>0.125903</td>\n",
       "      <td>0.343725</td>\n",
       "      <td>-0.014074</td>\n",
       "      <td>0.882811</td>\n",
       "      <td>0.446244</td>\n",
       "      <td>-0.223767</td>\n",
       "      <td>-0.119138</td>\n",
       "      <td>0.595655</td>\n",
       "      <td>-0.713529</td>\n",
       "      <td>-0.743526</td>\n",
       "      <td>positive</td>\n",
       "      <td>1</td>\n",
       "    </tr>\n",
       "    <tr>\n",
       "      <th>...</th>\n",
       "      <td>...</td>\n",
       "      <td>...</td>\n",
       "      <td>...</td>\n",
       "      <td>...</td>\n",
       "      <td>...</td>\n",
       "      <td>...</td>\n",
       "      <td>...</td>\n",
       "      <td>...</td>\n",
       "      <td>...</td>\n",
       "      <td>...</td>\n",
       "      <td>...</td>\n",
       "      <td>...</td>\n",
       "      <td>...</td>\n",
       "      <td>...</td>\n",
       "      <td>...</td>\n",
       "      <td>...</td>\n",
       "    </tr>\n",
       "    <tr>\n",
       "      <th>1281</th>\n",
       "      <td>-0.210308</td>\n",
       "      <td>-0.221256</td>\n",
       "      <td>1.930355</td>\n",
       "      <td>0.086271</td>\n",
       "      <td>1.014521</td>\n",
       "      <td>0.044991</td>\n",
       "      <td>1.107581</td>\n",
       "      <td>-0.456613</td>\n",
       "      <td>-1.487740</td>\n",
       "      <td>-0.834685</td>\n",
       "      <td>-0.624811</td>\n",
       "      <td>-0.708992</td>\n",
       "      <td>-0.182790</td>\n",
       "      <td>0.512655</td>\n",
       "      <td>negative</td>\n",
       "      <td>0</td>\n",
       "    </tr>\n",
       "    <tr>\n",
       "      <th>3378</th>\n",
       "      <td>0.040316</td>\n",
       "      <td>0.236515</td>\n",
       "      <td>-1.029223</td>\n",
       "      <td>0.364550</td>\n",
       "      <td>0.491805</td>\n",
       "      <td>-0.652057</td>\n",
       "      <td>0.927315</td>\n",
       "      <td>0.777758</td>\n",
       "      <td>0.831401</td>\n",
       "      <td>-0.529226</td>\n",
       "      <td>0.049419</td>\n",
       "      <td>-0.250603</td>\n",
       "      <td>1.320970</td>\n",
       "      <td>-0.479728</td>\n",
       "      <td>negative</td>\n",
       "      <td>0</td>\n",
       "    </tr>\n",
       "    <tr>\n",
       "      <th>71</th>\n",
       "      <td>0.290940</td>\n",
       "      <td>0.671398</td>\n",
       "      <td>0.173372</td>\n",
       "      <td>-0.653951</td>\n",
       "      <td>-0.501356</td>\n",
       "      <td>-1.249524</td>\n",
       "      <td>0.086074</td>\n",
       "      <td>1.250496</td>\n",
       "      <td>-0.356851</td>\n",
       "      <td>0.081693</td>\n",
       "      <td>-0.624811</td>\n",
       "      <td>0.525133</td>\n",
       "      <td>-0.182790</td>\n",
       "      <td>0.135801</td>\n",
       "      <td>negative</td>\n",
       "      <td>0</td>\n",
       "    </tr>\n",
       "    <tr>\n",
       "      <th>22</th>\n",
       "      <td>-0.147652</td>\n",
       "      <td>0.190738</td>\n",
       "      <td>0.002791</td>\n",
       "      <td>-1.132592</td>\n",
       "      <td>-0.083183</td>\n",
       "      <td>-1.249524</td>\n",
       "      <td>0.566783</td>\n",
       "      <td>2.012129</td>\n",
       "      <td>-0.422410</td>\n",
       "      <td>0.387152</td>\n",
       "      <td>-0.709090</td>\n",
       "      <td>-0.127191</td>\n",
       "      <td>0.613318</td>\n",
       "      <td>-0.668155</td>\n",
       "      <td>negative</td>\n",
       "      <td>0</td>\n",
       "    </tr>\n",
       "    <tr>\n",
       "      <th>5057</th>\n",
       "      <td>0.604220</td>\n",
       "      <td>0.305181</td>\n",
       "      <td>-0.108086</td>\n",
       "      <td>0.751358</td>\n",
       "      <td>-0.396813</td>\n",
       "      <td>1.239930</td>\n",
       "      <td>-1.035581</td>\n",
       "      <td>-0.404086</td>\n",
       "      <td>0.331516</td>\n",
       "      <td>1.303529</td>\n",
       "      <td>-0.287696</td>\n",
       "      <td>0.789588</td>\n",
       "      <td>-0.182790</td>\n",
       "      <td>0.701083</td>\n",
       "      <td>negative</td>\n",
       "      <td>0</td>\n",
       "    </tr>\n",
       "  </tbody>\n",
       "</table>\n",
       "<p>150 rows × 16 columns</p>\n",
       "</div>"
      ],
      "text/plain": [
       "      Hemoglobin  Hematocrit  Lymphocytes  Leukocytes  \\\n",
       "568     0.792188    0.991838    -0.048383   -0.420197   \n",
       "884    -0.398276   -0.495919    -0.935404   -0.820919   \n",
       "1108   -0.648900   -0.312811    -0.099557   -0.968407   \n",
       "1162   -0.272964   -0.518807    -0.457777   -0.573250   \n",
       "1293    0.729532    0.694287    -0.636887   -0.606644   \n",
       "...          ...         ...          ...         ...   \n",
       "1281   -0.210308   -0.221256     1.930355    0.086271   \n",
       "3378    0.040316    0.236515    -1.029223    0.364550   \n",
       "71      0.290940    0.671398     0.173372   -0.653951   \n",
       "22     -0.147652    0.190738     0.002791   -1.132592   \n",
       "5057    0.604220    0.305181    -0.108086    0.751358   \n",
       "\n",
       "      Mean corpuscular hemoglobin (MCH)  \\\n",
       "568                           -1.442245   \n",
       "884                            0.334989   \n",
       "1108                           0.021361   \n",
       "1162                           0.439533   \n",
       "1293                           0.125903   \n",
       "...                                 ...   \n",
       "1281                           1.014521   \n",
       "3378                           0.491805   \n",
       "71                            -0.501356   \n",
       "22                            -0.083183   \n",
       "5057                          -0.396813   \n",
       "\n",
       "      Mean corpuscular hemoglobin concentration (MCHC)  \\\n",
       "568                                          -0.452899   \n",
       "884                                           0.244149   \n",
       "1108                                         -1.448681   \n",
       "1162                                          0.941197   \n",
       "1293                                          0.343725   \n",
       "...                                                ...   \n",
       "1281                                          0.044991   \n",
       "3378                                         -0.652057   \n",
       "71                                           -1.249524   \n",
       "22                                           -1.249524   \n",
       "5057                                          1.239930   \n",
       "\n",
       "      Mean corpuscular volume (MCV)  Monocytes  Neutrophils  Basophils  \\\n",
       "568                       -1.396114   1.933339    -0.414215   1.303529   \n",
       "884                        0.226280  -0.456613     1.282118  -1.140144   \n",
       "1108                       0.807138   1.513128    -0.315877  -0.529226   \n",
       "1162                       0.066045   2.537393    -0.127395  -0.223767   \n",
       "1293                      -0.014074   0.882811     0.446244  -0.223767   \n",
       "...                             ...        ...          ...        ...   \n",
       "1281                       1.107581  -0.456613    -1.487740  -0.834685   \n",
       "3378                       0.927315   0.777758     0.831401  -0.529226   \n",
       "71                         0.086074   1.250496    -0.356851   0.081693   \n",
       "22                         0.566783   2.012129    -0.422410   0.387152   \n",
       "5057                      -1.035581  -0.404086     0.331516   1.303529   \n",
       "\n",
       "      Eosinophils  Red blood Cells  Red blood cell distribution width (RDW)  \\\n",
       "568     -0.498393         1.653476                                 0.967144   \n",
       "884     -0.666950        -0.567950                                -0.978899   \n",
       "1108     0.175837        -0.656101                                 0.347948   \n",
       "1162    -0.709090        -0.515058                                -0.801985   \n",
       "1293    -0.119138         0.595655                                -0.713529   \n",
       "...           ...              ...                                      ...   \n",
       "1281    -0.624811        -0.708992                                -0.182790   \n",
       "3378     0.049419        -0.250603                                 1.320970   \n",
       "71      -0.624811         0.525133                                -0.182790   \n",
       "22      -0.709090        -0.127191                                 0.613318   \n",
       "5057    -0.287696         0.789588                                -0.182790   \n",
       "\n",
       "      Platelets SARS-Cov-2 exam result  PCR_result  \n",
       "568   -0.341548               positive           1  \n",
       "884   -0.718402               positive           1  \n",
       "1108  -0.027502               positive           1  \n",
       "1162  -0.215930               positive           1  \n",
       "1293  -0.743526               positive           1  \n",
       "...         ...                    ...         ...  \n",
       "1281   0.512655               negative           0  \n",
       "3378  -0.479728               negative           0  \n",
       "71     0.135801               negative           0  \n",
       "22    -0.668155               negative           0  \n",
       "5057   0.701083               negative           0  \n",
       "\n",
       "[150 rows x 16 columns]"
      ]
     },
     "execution_count": 179,
     "metadata": {},
     "output_type": "execute_result"
    }
   ],
   "source": [
    "saopaulo_lastdf"
   ]
  },
  {
   "cell_type": "code",
   "execution_count": 180,
   "metadata": {},
   "outputs": [],
   "source": [
    "Xs = saopaulo_lastdf[['Hemoglobin','Hematocrit', 'Lymphocytes', 'Leukocytes'\n",
    "             ,'Mean corpuscular hemoglobin (MCH)','Mean corpuscular hemoglobin concentration (MCHC)'\n",
    "               ,'Mean corpuscular volume (MCV)','Monocytes','Neutrophils','Basophils','Eosinophils'\n",
    "               ,'Red blood Cells','Red blood cell distribution width (RDW)','Platelets']].values\n",
    "\n",
    "Ys = saopaulo_lastdf['PCR_result'].values"
   ]
  },
  {
   "cell_type": "markdown",
   "metadata": {},
   "source": [
    "### Baskent Data features (demographic data)"
   ]
  },
  {
   "cell_type": "code",
   "execution_count": 182,
   "metadata": {},
   "outputs": [],
   "source": [
    "# Exporting demographical data to excel\n",
    "\n",
    "veriler.describe().to_excel(r'/Users/hikmetcancubukcu/Desktop/covidai/veriler başkent covid/covid cbc demographic2.xlsx')"
   ]
  },
  {
   "cell_type": "code",
   "execution_count": 183,
   "metadata": {},
   "outputs": [
    {
     "name": "stdout",
     "output_type": "stream",
     "text": [
      "<class 'pandas.core.frame.DataFrame'>\n",
      "RangeIndex: 1391 entries, 0 to 1390\n",
      "Data columns (total 24 columns):\n",
      " #   Column                    Non-Null Count  Dtype  \n",
      "---  ------                    --------------  -----  \n",
      " 0   hastano                   1391 non-null   int64  \n",
      " 1   yasiondalik               1391 non-null   float64\n",
      " 2   cinsiyet                  1391 non-null   object \n",
      " 3   alanin_aminotransferaz    1391 non-null   int64  \n",
      " 4   aspartat_aminotransferaz  1391 non-null   int64  \n",
      " 5   basophils                 1391 non-null   float64\n",
      " 6   c_reactive_protein        1391 non-null   float64\n",
      " 7   eosinophils               1391 non-null   float64\n",
      " 8   hb                        1391 non-null   float64\n",
      " 9   hct                       1391 non-null   float64\n",
      " 10  kreatinin                 1391 non-null   float64\n",
      " 11  laktat_dehidrogenaz       1391 non-null   int64  \n",
      " 12  lenfosit                  1391 non-null   float64\n",
      " 13  lokosit                   1391 non-null   float64\n",
      " 14  mch                       1391 non-null   float64\n",
      " 15  mchc                      1391 non-null   float64\n",
      " 16  mcv                       1391 non-null   float64\n",
      " 17  monocytes                 1391 non-null   float64\n",
      " 18  notrofil                  1391 non-null   float64\n",
      " 19  rbc                       1391 non-null   float64\n",
      " 20  rdw                       1391 non-null   float64\n",
      " 21  total_bilirubin           1391 non-null   float64\n",
      " 22  trombosit                 1391 non-null   float64\n",
      " 23  pcr                       1391 non-null   object \n",
      "dtypes: float64(18), int64(4), object(2)\n",
      "memory usage: 260.9+ KB\n"
     ]
    }
   ],
   "source": [
    "veriler.info()"
   ]
  },
  {
   "cell_type": "markdown",
   "metadata": {},
   "source": [
    "### Baskent Data preprocessing"
   ]
  },
  {
   "cell_type": "code",
   "execution_count": null,
   "metadata": {},
   "outputs": [],
   "source": [
    "# Gender to integer (0 : E, 1 : K)\n",
    "\n",
    "from sklearn.preprocessing import LabelEncoder\n",
    "\n",
    "le = LabelEncoder()\n",
    "veriler[\"gender\"] = le.fit_transform(veriler[\"cinsiyet\"])\n",
    "\n"
   ]
  },
  {
   "cell_type": "code",
   "execution_count": null,
   "metadata": {},
   "outputs": [],
   "source": [
    "# Pcr to numeric values (negative : 0 , positive : 1)\n",
    "\n",
    "veriler[\"pcr_result\"] = le.fit_transform(veriler[\"pcr\"])\n",
    "\n"
   ]
  },
  {
   "cell_type": "code",
   "execution_count": 186,
   "metadata": {},
   "outputs": [
    {
     "name": "stdout",
     "output_type": "stream",
     "text": [
      "<class 'pandas.core.frame.DataFrame'>\n",
      "RangeIndex: 1391 entries, 0 to 1390\n",
      "Data columns (total 26 columns):\n",
      " #   Column                    Non-Null Count  Dtype  \n",
      "---  ------                    --------------  -----  \n",
      " 0   hastano                   1391 non-null   int64  \n",
      " 1   yasiondalik               1391 non-null   float64\n",
      " 2   cinsiyet                  1391 non-null   object \n",
      " 3   alanin_aminotransferaz    1391 non-null   int64  \n",
      " 4   aspartat_aminotransferaz  1391 non-null   int64  \n",
      " 5   basophils                 1391 non-null   float64\n",
      " 6   c_reactive_protein        1391 non-null   float64\n",
      " 7   eosinophils               1391 non-null   float64\n",
      " 8   hb                        1391 non-null   float64\n",
      " 9   hct                       1391 non-null   float64\n",
      " 10  kreatinin                 1391 non-null   float64\n",
      " 11  laktat_dehidrogenaz       1391 non-null   int64  \n",
      " 12  lenfosit                  1391 non-null   float64\n",
      " 13  lokosit                   1391 non-null   float64\n",
      " 14  mch                       1391 non-null   float64\n",
      " 15  mchc                      1391 non-null   float64\n",
      " 16  mcv                       1391 non-null   float64\n",
      " 17  monocytes                 1391 non-null   float64\n",
      " 18  notrofil                  1391 non-null   float64\n",
      " 19  rbc                       1391 non-null   float64\n",
      " 20  rdw                       1391 non-null   float64\n",
      " 21  total_bilirubin           1391 non-null   float64\n",
      " 22  trombosit                 1391 non-null   float64\n",
      " 23  pcr                       1391 non-null   object \n",
      " 24  gender                    1391 non-null   int64  \n",
      " 25  pcr_result                1391 non-null   int64  \n",
      "dtypes: float64(18), int64(6), object(2)\n",
      "memory usage: 282.7+ KB\n"
     ]
    }
   ],
   "source": [
    "veriler.info() # başkent uni data"
   ]
  },
  {
   "cell_type": "code",
   "execution_count": 187,
   "metadata": {},
   "outputs": [],
   "source": [
    "# Dependent & Independent variables (cbc)\n",
    "\n",
    "X = veriler[['hb','hct','lenfosit','lokosit','mch','mchc','mcv','monocytes','notrofil',\n",
    "             'basophils','eosinophils', 'rbc','rdw','trombosit']].values\n",
    "Y = veriler['pcr_result'].values"
   ]
  },
  {
   "cell_type": "code",
   "execution_count": 188,
   "metadata": {},
   "outputs": [],
   "source": [
    "# Train - Test Spilt (80% - 20%)\n",
    "\n",
    "from sklearn.model_selection import train_test_split\n",
    "x_train, x_test,y_train,y_test = train_test_split(X,Y,stratify=Y,test_size=0.20, random_state=0)\n"
   ]
  },
  {
   "cell_type": "code",
   "execution_count": 189,
   "metadata": {},
   "outputs": [
    {
     "name": "stdout",
     "output_type": "stream",
     "text": [
      "n of test set 279\n",
      "n of train set 1112\n"
     ]
    }
   ],
   "source": [
    "print('n of test set', len(y_test))\n",
    "print('n of train set', len(y_train))"
   ]
  },
  {
   "cell_type": "code",
   "execution_count": 190,
   "metadata": {},
   "outputs": [],
   "source": [
    "# Standardization\n",
    "\n",
    "from sklearn.preprocessing import StandardScaler\n",
    "\n",
    "sc = StandardScaler()\n",
    "X_train = sc.fit_transform(x_train)\n",
    "X_test = sc.fit_transform(x_test)"
   ]
  },
  {
   "cell_type": "code",
   "execution_count": 191,
   "metadata": {},
   "outputs": [],
   "source": [
    "#confusion matrix function\n",
    "\n",
    "from sklearn.metrics import classification_report, confusion_matrix\n",
    "import itertools\n",
    "def plot_confusion_matrix(cm, classes,\n",
    "                          normalize=False,\n",
    "                          title='Confusion matrix',\n",
    "                          cmap=plt.cm.Blues):\n",
    "    \"\"\"\n",
    "    This function prints and plots the confusion matrix.\n",
    "    Normalization can be applied by setting `normalize=True`.\n",
    "    \"\"\"\n",
    "    if normalize:\n",
    "        cm = cm.astype('float') / cm.sum(axis=1)[:, np.newaxis]\n",
    "        print(\"Normalized confusion matrix\")\n",
    "    else:\n",
    "        print('Confusion matrix, without normalization')\n",
    "\n",
    "    print(cm)\n",
    "\n",
    "    plt.imshow(cm, interpolation='nearest', cmap=cmap)\n",
    "    plt.title(title)\n",
    "    plt.colorbar()\n",
    "    tick_marks = np.arange(len(classes))\n",
    "    plt.xticks(tick_marks, classes, rotation=45)\n",
    "    plt.yticks(tick_marks, classes)\n",
    "\n",
    "    fmt = '.2f' if normalize else 'd'\n",
    "    thresh = cm.max() / 2.\n",
    "    for i, j in itertools.product(range(cm.shape[0]), range(cm.shape[1])):\n",
    "        plt.text(j, i, format(cm[i, j], fmt),\n",
    "                 horizontalalignment=\"center\",\n",
    "                 color=\"white\" if cm[i, j] > thresh else \"black\")\n",
    "\n",
    "    plt.tight_layout()\n",
    "    plt.ylabel('True label')\n",
    "    plt.xlabel('Predicted label')\n"
   ]
  },
  {
   "cell_type": "markdown",
   "metadata": {},
   "source": [
    "### Logistic Regression"
   ]
  },
  {
   "cell_type": "code",
   "execution_count": 192,
   "metadata": {},
   "outputs": [],
   "source": [
    "# importing library\n",
    "\n",
    "from sklearn.linear_model import LogisticRegression"
   ]
  },
  {
   "cell_type": "code",
   "execution_count": 193,
   "metadata": {},
   "outputs": [],
   "source": [
    "logr= LogisticRegression(random_state=0)"
   ]
  },
  {
   "cell_type": "code",
   "execution_count": 194,
   "metadata": {},
   "outputs": [
    {
     "data": {
      "text/plain": [
       "LogisticRegression(random_state=0)"
      ]
     },
     "execution_count": 194,
     "metadata": {},
     "output_type": "execute_result"
    }
   ],
   "source": [
    "logr.fit(X_train,y_train)"
   ]
  },
  {
   "cell_type": "code",
   "execution_count": 195,
   "metadata": {},
   "outputs": [],
   "source": [
    "y_hat= logr.predict(X_test)\n",
    "yhat_logr = logr.predict_proba(X_test)\n",
    "y_hat22 = y_hat"
   ]
  },
  {
   "cell_type": "code",
   "execution_count": 196,
   "metadata": {},
   "outputs": [
    {
     "name": "stdout",
     "output_type": "stream",
     "text": [
      "Confusion matrix, without normalization\n",
      "[[116  26]\n",
      " [ 30 107]]\n"
     ]
    },
    {
     "data": {
      "image/png": "[encoded data removed]",
      "text/plain": [
       "<Figure size 432x288 with 2 Axes>"
      ]
     },
     "metadata": {
      "needs_background": "light"
     },
     "output_type": "display_data"
    }
   ],
   "source": [
    "# Compute confusion matrix\n",
    "cnf_matrix = confusion_matrix(y_test, y_hat, labels=[1,0])\n",
    "np.set_printoptions(precision=2)\n",
    "\n",
    "\n",
    "# Plot non-normalized confusion matrix\n",
    "plt.figure()\n",
    "plot_confusion_matrix(cnf_matrix, classes=['PCR positive','PCR negative'],normalize= False,  title='Confusion matrix')"
   ]
  },
  {
   "cell_type": "code",
   "execution_count": 197,
   "metadata": {},
   "outputs": [
    {
     "name": "stdout",
     "output_type": "stream",
     "text": [
      "              precision    recall  f1-score   support\n",
      "\n",
      "           0       0.80      0.78      0.79       137\n",
      "           1       0.79      0.82      0.81       142\n",
      "\n",
      "    accuracy                           0.80       279\n",
      "   macro avg       0.80      0.80      0.80       279\n",
      "weighted avg       0.80      0.80      0.80       279\n",
      "\n",
      "precision : positive predictive value\n",
      "recall : sensitivity\n"
     ]
    }
   ],
   "source": [
    "print (classification_report(y_test, y_hat))\n",
    "\n",
    "print('precision : positive predictive value')\n",
    "print('recall : sensitivity')"
   ]
  },
  {
   "cell_type": "code",
   "execution_count": 198,
   "metadata": {},
   "outputs": [
    {
     "name": "stdout",
     "output_type": "stream",
     "text": [
      "0.7967744530244529\n",
      "0.020836508667640717\n"
     ]
    }
   ],
   "source": [
    "# 10 fold cross validation\n",
    "\n",
    "from sklearn.model_selection import cross_val_score\n",
    "''' \n",
    "1. estimator : classifier (bizim durum)\n",
    "2. X\n",
    "3. Y\n",
    "4. cv : kaç katlamalı\n",
    "\n",
    "'''\n",
    "basari = cross_val_score(estimator = logr, X=X_train, y=y_train , cv = 10)\n",
    "print(basari.mean())\n",
    "print(basari.std())"
   ]
  },
  {
   "cell_type": "code",
   "execution_count": 98,
   "metadata": {},
   "outputs": [],
   "source": [
    "# sao paulo external validation - logistic regression"
   ]
  },
  {
   "cell_type": "code",
   "execution_count": 201,
   "metadata": {},
   "outputs": [],
   "source": [
    "y_hats= logr.predict(Xs)\n",
    "\n",
    "yhats_logr = logr.predict_proba(Xs)\n",
    "y_hats22 = y_hats"
   ]
  },
  {
   "cell_type": "code",
   "execution_count": 202,
   "metadata": {},
   "outputs": [
    {
     "name": "stdout",
     "output_type": "stream",
     "text": [
      "Confusion matrix, without normalization\n",
      "[[67  8]\n",
      " [31 44]]\n"
     ]
    },
    {
     "data": {
      "image/png": "[encoded data removed]",
      "text/plain": [
       "<Figure size 432x288 with 2 Axes>"
      ]
     },
     "metadata": {
      "needs_background": "light"
     },
     "output_type": "display_data"
    }
   ],
   "source": [
    "# Compute confusion matrix\n",
    "cnf_matrix = confusion_matrix(Ys, y_hats22, labels=[1,0])\n",
    "np.set_printoptions(precision=2)\n",
    "\n",
    "\n",
    "# Plot non-normalized confusion matrix\n",
    "plt.figure()\n",
    "plot_confusion_matrix(cnf_matrix, classes=['PCR positive','PCR negative'],normalize= False,  title='Confusion matrix')"
   ]
  },
  {
   "cell_type": "code",
   "execution_count": 203,
   "metadata": {},
   "outputs": [
    {
     "name": "stdout",
     "output_type": "stream",
     "text": [
      "              precision    recall  f1-score   support\n",
      "\n",
      "           0       0.85      0.59      0.69        75\n",
      "           1       0.68      0.89      0.77        75\n",
      "\n",
      "    accuracy                           0.74       150\n",
      "   macro avg       0.76      0.74      0.73       150\n",
      "weighted avg       0.76      0.74      0.73       150\n",
      "\n",
      "precision : positive predictive value\n",
      "recall : sensitivity\n"
     ]
    }
   ],
   "source": [
    "print (classification_report(Ys, y_hats))\n",
    "\n",
    "print('precision : positive predictive value')\n",
    "print('recall : sensitivity')"
   ]
  },
  {
   "cell_type": "markdown",
   "metadata": {},
   "source": [
    "### Support Vector Machines"
   ]
  },
  {
   "cell_type": "code",
   "execution_count": 207,
   "metadata": {},
   "outputs": [],
   "source": [
    "from sklearn.svm import SVC\n",
    "svc= SVC(kernel=\"rbf\",probability=True)"
   ]
  },
  {
   "cell_type": "code",
   "execution_count": 208,
   "metadata": {},
   "outputs": [],
   "source": [
    "svc.fit(X_train, y_train)\n",
    "yhat= svc.predict(X_test)\n",
    "yhat_svm = svc.predict_proba(X_test)\n",
    "yhat4 = yhat # svm prediction => yhat4"
   ]
  },
  {
   "cell_type": "code",
   "execution_count": 209,
   "metadata": {},
   "outputs": [
    {
     "name": "stdout",
     "output_type": "stream",
     "text": [
      "Confusion matrix, without normalization\n",
      "[[116  26]\n",
      " [ 26 111]]\n"
     ]
    },
    {
     "data": {
      "image/png": "[encoded data removed]",
      "text/plain": [
       "<Figure size 432x288 with 2 Axes>"
      ]
     },
     "metadata": {
      "needs_background": "light"
     },
     "output_type": "display_data"
    }
   ],
   "source": [
    "# Compute confusion matrix\n",
    "cnf_matrix = confusion_matrix(y_test, yhat4, labels=[1,0])\n",
    "np.set_printoptions(precision=2)\n",
    "\n",
    "\n",
    "# Plot non-normalized confusion matrix\n",
    "plt.figure()\n",
    "plot_confusion_matrix(cnf_matrix, classes=['PCR positive','PCR negative'],normalize= False,  title='Confusion matrix')"
   ]
  },
  {
   "cell_type": "code",
   "execution_count": 210,
   "metadata": {},
   "outputs": [
    {
     "name": "stdout",
     "output_type": "stream",
     "text": [
      "              precision    recall  f1-score   support\n",
      "\n",
      "           0       0.81      0.81      0.81       137\n",
      "           1       0.82      0.82      0.82       142\n",
      "\n",
      "    accuracy                           0.81       279\n",
      "   macro avg       0.81      0.81      0.81       279\n",
      "weighted avg       0.81      0.81      0.81       279\n",
      "\n",
      "precision : positive predictive value\n",
      "recall : sensitivity\n"
     ]
    }
   ],
   "source": [
    "print (classification_report(y_test, yhat4))\n",
    "\n",
    "print('precision : positive predictive value')\n",
    "print('recall : sensitivity')"
   ]
  },
  {
   "cell_type": "code",
   "execution_count": 211,
   "metadata": {},
   "outputs": [
    {
     "name": "stdout",
     "output_type": "stream",
     "text": [
      "0.8084298584298585\n",
      "0.029357583533502745\n"
     ]
    }
   ],
   "source": [
    "# 10 fold cross validation\n",
    "\n",
    "from sklearn.model_selection import cross_val_score\n",
    "''' \n",
    "1. estimator : classifier (bizim durum)\n",
    "2. X\n",
    "3. Y\n",
    "4. cv : kaç katlamalı\n",
    "\n",
    "'''\n",
    "basari = cross_val_score(estimator = svc, X=X_train, y=y_train , cv = 10)\n",
    "print(basari.mean())\n",
    "print(basari.std())"
   ]
  },
  {
   "cell_type": "code",
   "execution_count": 212,
   "metadata": {},
   "outputs": [],
   "source": [
    "# SAO PAULO EXTERNAL VALIDATION\n",
    "\n",
    "y_hats4= svc.predict(Xs)\n",
    "\n",
    "yhats2_svc = svc.predict_proba(Xs)\n",
    "\n"
   ]
  },
  {
   "cell_type": "code",
   "execution_count": 213,
   "metadata": {},
   "outputs": [
    {
     "name": "stdout",
     "output_type": "stream",
     "text": [
      "Confusion matrix, without normalization\n",
      "[[70  5]\n",
      " [25 50]]\n"
     ]
    },
    {
     "data": {
      "image/png": "[encoded data removed]",
      "text/plain": [
       "<Figure size 432x288 with 2 Axes>"
      ]
     },
     "metadata": {
      "needs_background": "light"
     },
     "output_type": "display_data"
    }
   ],
   "source": [
    "# Compute confusion matrix\n",
    "cnf_matrix = confusion_matrix(Ys, y_hats4, labels=[1,0])\n",
    "np.set_printoptions(precision=2)\n",
    "\n",
    "\n",
    "# Plot non-normalized confusion matrix\n",
    "plt.figure()\n",
    "plot_confusion_matrix(cnf_matrix, classes=['PCR positive','PCR negative'],normalize= False,  title='Confusion matrix')"
   ]
  },
  {
   "cell_type": "code",
   "execution_count": 214,
   "metadata": {},
   "outputs": [
    {
     "name": "stdout",
     "output_type": "stream",
     "text": [
      "              precision    recall  f1-score   support\n",
      "\n",
      "           0       0.91      0.67      0.77        75\n",
      "           1       0.74      0.93      0.82        75\n",
      "\n",
      "    accuracy                           0.80       150\n",
      "   macro avg       0.82      0.80      0.80       150\n",
      "weighted avg       0.82      0.80      0.80       150\n",
      "\n",
      "precision : positive predictive value\n",
      "recall : sensitivity\n"
     ]
    }
   ],
   "source": [
    "print (classification_report(Ys, y_hats4))\n",
    "\n",
    "print('precision : positive predictive value')\n",
    "print('recall : sensitivity')"
   ]
  },
  {
   "cell_type": "markdown",
   "metadata": {},
   "source": [
    "### RANDOM FOREST CLASSIFIER"
   ]
  },
  {
   "cell_type": "code",
   "execution_count": 216,
   "metadata": {},
   "outputs": [],
   "source": [
    "from sklearn.ensemble import RandomForestClassifier\n",
    "rfc= RandomForestClassifier(n_estimators=200,criterion=\"entropy\")"
   ]
  },
  {
   "cell_type": "code",
   "execution_count": 217,
   "metadata": {},
   "outputs": [],
   "source": [
    "rfc.fit(X_train,y_train)\n",
    "yhat7= rfc.predict(X_test)\n",
    "yhat_rf = rfc.predict_proba(X_test)\n"
   ]
  },
  {
   "cell_type": "code",
   "execution_count": 218,
   "metadata": {},
   "outputs": [
    {
     "name": "stdout",
     "output_type": "stream",
     "text": [
      "Confusion matrix, without normalization\n",
      "[[114  28]\n",
      " [ 20 117]]\n"
     ]
    },
    {
     "data": {
      "image/png": "[encoded data removed]",
      "text/plain": [
       "<Figure size 432x288 with 2 Axes>"
      ]
     },
     "metadata": {
      "needs_background": "light"
     },
     "output_type": "display_data"
    }
   ],
   "source": [
    "# Compute confusion matrix\n",
    "cnf_matrix = confusion_matrix(y_test, yhat7, labels=[1,0])\n",
    "np.set_printoptions(precision=2)\n",
    "\n",
    "\n",
    "# Plot non-normalized confusion matrix\n",
    "plt.figure()\n",
    "plot_confusion_matrix(cnf_matrix, classes=['PCR positive','PCR negative'],normalize= False,  title='Confusion matrix')"
   ]
  },
  {
   "cell_type": "code",
   "execution_count": 219,
   "metadata": {},
   "outputs": [
    {
     "name": "stdout",
     "output_type": "stream",
     "text": [
      "              precision    recall  f1-score   support\n",
      "\n",
      "           0       0.81      0.85      0.83       137\n",
      "           1       0.85      0.80      0.83       142\n",
      "\n",
      "    accuracy                           0.83       279\n",
      "   macro avg       0.83      0.83      0.83       279\n",
      "weighted avg       0.83      0.83      0.83       279\n",
      "\n",
      "precision : positive predictive value\n",
      "recall : sensitivity\n"
     ]
    }
   ],
   "source": [
    "print (classification_report(y_test, yhat7))\n",
    "\n",
    "print('precision : positive predictive value')\n",
    "print('recall : sensitivity')"
   ]
  },
  {
   "cell_type": "code",
   "execution_count": 220,
   "metadata": {},
   "outputs": [
    {
     "name": "stdout",
     "output_type": "stream",
     "text": [
      "0.827324646074646\n",
      "0.03390914967191843\n"
     ]
    }
   ],
   "source": [
    "# 10 fold cross validation\n",
    "\n",
    "from sklearn.model_selection import cross_val_score\n",
    "''' \n",
    "1. estimator : classifier (bizim durum)\n",
    "2. X\n",
    "3. Y\n",
    "4. cv : kaç katlamalı\n",
    "\n",
    "'''\n",
    "basari = cross_val_score(estimator = rfc, X=X_train, y=y_train , cv = 10)\n",
    "print(basari.mean())\n",
    "print(basari.std())"
   ]
  },
  {
   "cell_type": "code",
   "execution_count": 221,
   "metadata": {},
   "outputs": [],
   "source": [
    "# SAO PAULO EXTERNAL VALIDATION\n",
    "\n",
    "yhats7= rfc.predict(Xs)\n",
    "\n",
    "yhats7_rfc = rfc.predict_proba(Xs)\n"
   ]
  },
  {
   "cell_type": "code",
   "execution_count": 222,
   "metadata": {},
   "outputs": [
    {
     "name": "stdout",
     "output_type": "stream",
     "text": [
      "Confusion matrix, without normalization\n",
      "[[68  7]\n",
      " [24 51]]\n"
     ]
    },
    {
     "data": {
      "image/png": "[encoded data removed]",
      "text/plain": [
       "<Figure size 432x288 with 2 Axes>"
      ]
     },
     "metadata": {
      "needs_background": "light"
     },
     "output_type": "display_data"
    }
   ],
   "source": [
    "# Compute confusion matrix\n",
    "cnf_matrix = confusion_matrix(Ys, yhats7, labels=[1,0])\n",
    "np.set_printoptions(precision=2)\n",
    "\n",
    "\n",
    "# Plot non-normalized confusion matrix\n",
    "plt.figure()\n",
    "plot_confusion_matrix(cnf_matrix, classes=['PCR positive','PCR negative'],normalize= False,  title='Confusion matrix')"
   ]
  },
  {
   "cell_type": "code",
   "execution_count": 223,
   "metadata": {},
   "outputs": [
    {
     "name": "stdout",
     "output_type": "stream",
     "text": [
      "              precision    recall  f1-score   support\n",
      "\n",
      "           0       0.88      0.68      0.77        75\n",
      "           1       0.74      0.91      0.81        75\n",
      "\n",
      "    accuracy                           0.79       150\n",
      "   macro avg       0.81      0.79      0.79       150\n",
      "weighted avg       0.81      0.79      0.79       150\n",
      "\n",
      "precision : positive predictive value\n",
      "recall : sensitivity\n"
     ]
    }
   ],
   "source": [
    "print (classification_report(Ys, yhats7))\n",
    "\n",
    "print('precision : positive predictive value')\n",
    "print('recall : sensitivity')"
   ]
  },
  {
   "cell_type": "markdown",
   "metadata": {},
   "source": [
    "### XGBOOST"
   ]
  },
  {
   "cell_type": "code",
   "execution_count": 226,
   "metadata": {},
   "outputs": [],
   "source": [
    "from sklearn.ensemble import GradientBoostingClassifier\n",
    "classifier = GradientBoostingClassifier()"
   ]
  },
  {
   "cell_type": "code",
   "execution_count": 227,
   "metadata": {},
   "outputs": [],
   "source": [
    "classifier.fit(X_train, y_train)\n",
    "yhat8 = classifier.predict(X_test)\n",
    "yhat_xgboost = classifier.predict_proba(X_test)\n"
   ]
  },
  {
   "cell_type": "code",
   "execution_count": 228,
   "metadata": {},
   "outputs": [
    {
     "name": "stdout",
     "output_type": "stream",
     "text": [
      "Confusion matrix, without normalization\n",
      "[[109  33]\n",
      " [ 22 115]]\n"
     ]
    },
    {
     "data": {
      "image/png": "[encoded data removed]",
      "text/plain": [
       "<Figure size 432x288 with 2 Axes>"
      ]
     },
     "metadata": {
      "needs_background": "light"
     },
     "output_type": "display_data"
    }
   ],
   "source": [
    "# Compute confusion matrix\n",
    "cnf_matrix = confusion_matrix(y_test, yhat8, labels=[1,0])\n",
    "np.set_printoptions(precision=2)\n",
    "\n",
    "\n",
    "# Plot non-normalized confusion matrix\n",
    "plt.figure()\n",
    "plot_confusion_matrix(cnf_matrix, classes=['PCR positive','PCR negative'],normalize= False,  title='Confusion matrix')"
   ]
  },
  {
   "cell_type": "code",
   "execution_count": 229,
   "metadata": {},
   "outputs": [
    {
     "name": "stdout",
     "output_type": "stream",
     "text": [
      "              precision    recall  f1-score   support\n",
      "\n",
      "           0       0.78      0.84      0.81       137\n",
      "           1       0.83      0.77      0.80       142\n",
      "\n",
      "    accuracy                           0.80       279\n",
      "   macro avg       0.80      0.80      0.80       279\n",
      "weighted avg       0.81      0.80      0.80       279\n",
      "\n",
      "precision : positive predictive value\n",
      "recall : sensitivity\n"
     ]
    }
   ],
   "source": [
    "print (classification_report(y_test, yhat8))\n",
    "\n",
    "print('precision : positive predictive value')\n",
    "print('recall : sensitivity')"
   ]
  },
  {
   "cell_type": "code",
   "execution_count": 230,
   "metadata": {},
   "outputs": [
    {
     "name": "stdout",
     "output_type": "stream",
     "text": [
      "0.8363014800514801\n",
      "0.0310012414545756\n"
     ]
    }
   ],
   "source": [
    "# 10 fold cross validation\n",
    "\n",
    "from sklearn.model_selection import cross_val_score\n",
    "''' \n",
    "1. estimator : classifier (bizim durum)\n",
    "2. X\n",
    "3. Y\n",
    "4. cv : kaç katlamalı\n",
    "\n",
    "'''\n",
    "basari = cross_val_score(estimator = rfc, X=X_train, y=y_train , cv = 10)\n",
    "print(basari.mean())\n",
    "print(basari.std())"
   ]
  },
  {
   "cell_type": "code",
   "execution_count": 231,
   "metadata": {},
   "outputs": [],
   "source": [
    "# SAO PAULO EXTERNAL VALIDATION\n",
    "\n",
    "y_hats8= classifier.predict(Xs)\n",
    "y_hats_xgboost = classifier.predict_proba(Xs)\n"
   ]
  },
  {
   "cell_type": "code",
   "execution_count": 232,
   "metadata": {},
   "outputs": [
    {
     "name": "stdout",
     "output_type": "stream",
     "text": [
      "Confusion matrix, without normalization\n",
      "[[64 11]\n",
      " [28 47]]\n"
     ]
    },
    {
     "data": {
      "image/png": "[encoded data removed]",
      "text/plain": [
       "<Figure size 432x288 with 2 Axes>"
      ]
     },
     "metadata": {
      "needs_background": "light"
     },
     "output_type": "display_data"
    }
   ],
   "source": [
    "# Compute confusion matrix\n",
    "cnf_matrix = confusion_matrix(Ys, y_hats8, labels=[1,0])\n",
    "np.set_printoptions(precision=2)\n",
    "\n",
    "\n",
    "# Plot non-normalized confusion matrix\n",
    "plt.figure()\n",
    "plot_confusion_matrix(cnf_matrix, classes=['PCR positive','PCR negative'],normalize= False,  title='Confusion matrix')"
   ]
  },
  {
   "cell_type": "code",
   "execution_count": 233,
   "metadata": {},
   "outputs": [
    {
     "name": "stdout",
     "output_type": "stream",
     "text": [
      "              precision    recall  f1-score   support\n",
      "\n",
      "           0       0.81      0.63      0.71        75\n",
      "           1       0.70      0.85      0.77        75\n",
      "\n",
      "    accuracy                           0.74       150\n",
      "   macro avg       0.75      0.74      0.74       150\n",
      "weighted avg       0.75      0.74      0.74       150\n",
      "\n",
      "precision : positive predictive value\n",
      "recall : sensitivity\n"
     ]
    }
   ],
   "source": [
    "print (classification_report(Ys, y_hats8))\n",
    "\n",
    "print('precision : positive predictive value')\n",
    "print('recall : sensitivity')"
   ]
  },
  {
   "cell_type": "markdown",
   "metadata": {},
   "source": [
    "## ROC & AUC"
   ]
  },
  {
   "cell_type": "code",
   "execution_count": 236,
   "metadata": {},
   "outputs": [
    {
     "data": {
      "image/png": "[encoded data removed]",
      "text/plain": [
       "<Figure size 1200x1200 with 1 Axes>"
      ]
     },
     "metadata": {
      "needs_background": "light"
     },
     "output_type": "display_data"
    }
   ],
   "source": [
    "#baskent dataset\n",
    "\n",
    "from sklearn.metrics import roc_curve, auc\n",
    "\n",
    "\n",
    "\n",
    "logr_fpr, logr_tpr, threshold = roc_curve(y_test, yhat_logr[:,1]) # logr roc data\n",
    "auc_logr = auc(logr_fpr, logr_tpr)\n",
    "\n",
    "\n",
    "\n",
    "svm_fpr, svm_tpr, threshold = roc_curve(y_test, yhat_svm[:,1]) # svm roc data\n",
    "auc_svm = auc(svm_fpr, svm_tpr)\n",
    "\n",
    "\n",
    "\n",
    "rf_fpr, rf_tpr, threshold = roc_curve(y_test, yhat_rf[:,1]) # rf roc data\n",
    "auc_rf = auc(rf_fpr, rf_tpr)\n",
    "\n",
    "xgboost_fpr, xgboost_tpr, threshold = roc_curve(y_test, yhat_xgboost[:,1]) # xgboost roc data\n",
    "auc_xgboost = auc(xgboost_fpr, xgboost_tpr)\n",
    "\n",
    "\n",
    "\n",
    "\n",
    "plt.figure(figsize=(4, 4), dpi=300)\n",
    "\n",
    "\n",
    "plt.plot(rf_fpr, rf_tpr,  linestyle='-', label='Random Forest (AUC = %0.3f)' % auc_rf)\n",
    "plt.plot(logr_fpr, logr_tpr,  linestyle='-', label='Logistic (AUC = %0.3f)' % auc_logr)\n",
    "plt.plot(svm_fpr, svm_tpr, linestyle='-', label='SVM (AUC = %0.3f)' % auc_svm)\n",
    "plt.plot(xgboost_fpr, xgboost_tpr, linestyle='-', label='XGBoost (AUC = %0.3f)' % auc_xgboost)\n",
    "\n",
    "\n",
    "\n",
    "\n",
    "\n",
    "\n",
    "\n",
    "\n",
    "plt.xlabel('False Positive Rate')\n",
    "plt.ylabel('True Positive Rate')\n",
    "\n",
    "plt.legend(fontsize=8)\n",
    "\n",
    "plt.show()\n",
    "\n"
   ]
  },
  {
   "cell_type": "code",
   "execution_count": 243,
   "metadata": {},
   "outputs": [
    {
     "data": {
      "image/png": "[encoded data removed]",
      "text/plain": [
       "<Figure size 1200x1200 with 1 Axes>"
      ]
     },
     "metadata": {
      "needs_background": "light"
     },
     "output_type": "display_data"
    }
   ],
   "source": [
    "# sao paulo dataset\n",
    "\n",
    "from sklearn.metrics import roc_curve, auc\n",
    "\n",
    "\n",
    "\n",
    "logr_fpr, logr_tpr, threshold = roc_curve(Ys, yhats_logr[:,1]) # logr roc data\n",
    "auc_logr = auc(logr_fpr, logr_tpr)\n",
    "\n",
    "\n",
    "\n",
    "svm_fpr, svm_tpr, threshold = roc_curve(Ys, yhats2_svc[:,1]) # svm roc data\n",
    "auc_svm = auc(svm_fpr, svm_tpr)\n",
    "\n",
    "\n",
    "\n",
    "rf_fpr, rf_tpr, threshold = roc_curve(Ys, yhats7_rfc[:,1]) # rf roc data\n",
    "auc_rf = auc(rf_fpr, rf_tpr)\n",
    "\n",
    "xgboost_fpr, xgboost_tpr, threshold = roc_curve(Ys, y_hats_xgboost[:,1]) # xgboost roc data\n",
    "auc_xgboost = auc(xgboost_fpr, xgboost_tpr)\n",
    "\n",
    "\n",
    "\n",
    "\n",
    "plt.figure(figsize=(4, 4), dpi=300)\n",
    "\n",
    "plt.plot(xgboost_fpr, xgboost_tpr, linestyle='-', label='XGBoost (AUC = %0.3f)' % auc_xgboost)\n",
    "plt.plot(rf_fpr, rf_tpr,  linestyle='-', label='Random Forest (AUC = %0.3f)' % auc_rf)\n",
    "plt.plot(svm_fpr, svm_tpr, linestyle='-', label='SVM (AUC = %0.3f)' % auc_svm)\n",
    "plt.plot(logr_fpr, logr_tpr,  linestyle='-', label='Logistic (AUC = %0.3f)' % auc_logr)\n",
    "\n",
    "\n",
    "\n",
    "\n",
    "\n",
    "\n",
    "\n",
    "\n",
    "plt.xlabel('False Positive Rate')\n",
    "plt.ylabel('True Positive Rate')\n",
    "\n",
    "plt.legend(fontsize=8)\n",
    "\n",
    "plt.show()\n",
    "\n"
   ]
  },
  {
   "cell_type": "code",
   "execution_count": 238,
   "metadata": {},
   "outputs": [],
   "source": [
    "\n",
    "yhat22= y_hat22*1\n",
    "#yhat22 = [item for sublist in yhat22 for item in sublist]\n",
    "\n",
    "yhat33= yhat4*1\n",
    "yhat44= yhat7*1\n",
    "yhat55= yhat8*1\n",
    "\n",
    "roc_data_array = [yhat55,yhat22,yhat33,yhat44,y_test]\n",
    "\n",
    "roc_data = pd.DataFrame(data=roc_data_array)"
   ]
  },
  {
   "cell_type": "code",
   "execution_count": 239,
   "metadata": {},
   "outputs": [],
   "source": [
    "roc_data.transpose().to_excel(r'roc_covid_cbc_last.xlsx')"
   ]
  },
  {
   "cell_type": "code",
   "execution_count": 242,
   "metadata": {},
   "outputs": [],
   "source": [
    "# validation data cbc\n",
    "\n",
    "\n",
    "yhat222= y_hats22*1\n",
    "#yhat22 = [item for sublist in yhat22 for item in sublist]\n",
    "\n",
    "yhat333= y_hats4*1\n",
    "yhat444= yhats7*1\n",
    "yhat555= y_hats8*1\n",
    "\n",
    "roc_data_array = [yhat555,yhat222,yhat333,yhat444,Ys]\n",
    "\n",
    "roc_data = pd.DataFrame(data=roc_data_array)\n",
    "roc_data.transpose().to_excel(r'roc_covid_cbc_last_val.xlsx')"
   ]
  },
  {
   "cell_type": "code",
   "execution_count": null,
   "metadata": {},
   "outputs": [],
   "source": []
  }
 ],
 "metadata": {
  "kernelspec": {
   "display_name": "Python 3",
   "language": "python",
   "name": "python3"
  },
  "language_info": {
   "codemirror_mode": {
    "name": "ipython",
    "version": 3
   },
   "file_extension": ".py",
   "mimetype": "text/x-python",
   "name": "python",
   "nbconvert_exporter": "python",
   "pygments_lexer": "ipython3",
   "version": "3.7.6"
  }
 },
 "nbformat": 4,
 "nbformat_minor": 4
}
