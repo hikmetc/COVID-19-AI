{
 "cells": [
  {
   "cell_type": "markdown",
   "metadata": {},
   "source": [
    "# Covid 19 Prediction Study - from CBC&CC parameters"
   ]
  },
  {
   "cell_type": "markdown",
   "metadata": {},
   "source": [
    "### Importing libraries"
   ]
  },
  {
   "cell_type": "code",
   "execution_count": 1,
   "metadata": {},
   "outputs": [],
   "source": [
    "import numpy as np\n",
    "import pandas as pd\n",
    "import matplotlib.pyplot as plt\n"
   ]
  },
  {
   "cell_type": "markdown",
   "metadata": {},
   "source": [
    "## Baskent Data"
   ]
  },
  {
   "cell_type": "code",
   "execution_count": 2,
   "metadata": {},
   "outputs": [],
   "source": [
    "# başkent university data\n",
    "veriler = pd.read_excel(r'covid data 05.xlsx')"
   ]
  },
  {
   "cell_type": "code",
   "execution_count": 4,
   "metadata": {},
   "outputs": [
    {
     "name": "stdout",
     "output_type": "stream",
     "text": [
      "total number of pcr results:  1391\n",
      "number of positive pcr results:  707\n",
      "number of negative pcr results:  684\n"
     ]
    }
   ],
   "source": [
    "# başkent uni data\n",
    "print('total number of pcr results: ',len(veriler['pcr']))\n",
    "print('number of positive pcr results: ',len(veriler[veriler['pcr']=='positive']))\n",
    "print('number of negative pcr results: ',len(veriler[veriler['pcr']=='negative']))"
   ]
  },
  {
   "cell_type": "markdown",
   "metadata": {},
   "source": [
    "## Sao Paulo dataset"
   ]
  },
  {
   "cell_type": "code",
   "execution_count": 5,
   "metadata": {},
   "outputs": [],
   "source": [
    "veri_saopaulo = pd.read_excel(r'sao_dataset.xlsx' )"
   ]
  },
  {
   "cell_type": "code",
   "execution_count": 6,
   "metadata": {},
   "outputs": [
    {
     "name": "stdout",
     "output_type": "stream",
     "text": [
      "total number of pcr results:  5644\n",
      "number of positive pcr results:  558\n",
      "number of negative pcr results:  5086\n"
     ]
    }
   ],
   "source": [
    "\n",
    "print('total number of pcr results: ',len(veri_saopaulo['SARS-Cov-2 exam result']))\n",
    "print('number of positive pcr results: ',len(veri_saopaulo[veri_saopaulo['SARS-Cov-2 exam result']=='positive']))\n",
    "print('number of negative pcr results: ',len(veri_saopaulo[veri_saopaulo['SARS-Cov-2 exam result']=='negative']))"
   ]
  },
  {
   "cell_type": "code",
   "execution_count": 7,
   "metadata": {},
   "outputs": [
    {
     "data": {
      "text/plain": [
       "['Patient ID',\n",
       " 'Patient age quantile',\n",
       " 'SARS-Cov-2 exam result',\n",
       " 'Patient addmited to regular ward (1=yes, 0=no)',\n",
       " 'Patient addmited to semi-intensive unit (1=yes, 0=no)',\n",
       " 'Patient addmited to intensive care unit (1=yes, 0=no)',\n",
       " 'Hematocrit',\n",
       " 'Hemoglobin',\n",
       " 'Platelets',\n",
       " 'Mean platelet volume ',\n",
       " 'Red blood Cells',\n",
       " 'Lymphocytes',\n",
       " 'Mean corpuscular hemoglobin concentration\\xa0(MCHC)',\n",
       " 'Leukocytes',\n",
       " 'Basophils',\n",
       " 'Mean corpuscular hemoglobin (MCH)',\n",
       " 'Eosinophils',\n",
       " 'Mean corpuscular volume (MCV)',\n",
       " 'Monocytes',\n",
       " 'Red blood cell distribution width (RDW)',\n",
       " 'Serum Glucose',\n",
       " 'Respiratory Syncytial Virus',\n",
       " 'Influenza A',\n",
       " 'Influenza B',\n",
       " 'Parainfluenza 1',\n",
       " 'CoronavirusNL63',\n",
       " 'Rhinovirus/Enterovirus',\n",
       " 'Mycoplasma pneumoniae',\n",
       " 'Coronavirus HKU1',\n",
       " 'Parainfluenza 3',\n",
       " 'Chlamydophila pneumoniae',\n",
       " 'Adenovirus',\n",
       " 'Parainfluenza 4',\n",
       " 'Coronavirus229E',\n",
       " 'CoronavirusOC43',\n",
       " 'Inf A H1N1 2009',\n",
       " 'Bordetella pertussis',\n",
       " 'Metapneumovirus',\n",
       " 'Parainfluenza 2',\n",
       " 'Neutrophils',\n",
       " 'Urea',\n",
       " 'Proteina C reativa mg/dL',\n",
       " 'Creatinine',\n",
       " 'Potassium',\n",
       " 'Sodium',\n",
       " 'Influenza B, rapid test',\n",
       " 'Influenza A, rapid test',\n",
       " 'Alanine transaminase',\n",
       " 'Aspartate transaminase',\n",
       " 'Gamma-glutamyltransferase\\xa0',\n",
       " 'Total Bilirubin',\n",
       " 'Direct Bilirubin',\n",
       " 'Indirect Bilirubin',\n",
       " 'Alkaline phosphatase',\n",
       " 'Ionized calcium\\xa0',\n",
       " 'Strepto A',\n",
       " 'Magnesium',\n",
       " 'pCO2 (venous blood gas analysis)',\n",
       " 'Hb saturation (venous blood gas analysis)',\n",
       " 'Base excess (venous blood gas analysis)',\n",
       " 'pO2 (venous blood gas analysis)',\n",
       " 'Fio2 (venous blood gas analysis)',\n",
       " 'Total CO2 (venous blood gas analysis)',\n",
       " 'pH (venous blood gas analysis)',\n",
       " 'HCO3 (venous blood gas analysis)',\n",
       " 'Rods #',\n",
       " 'Segmented',\n",
       " 'Promyelocytes',\n",
       " 'Metamyelocytes',\n",
       " 'Myelocytes',\n",
       " 'Myeloblasts',\n",
       " 'Urine - Esterase',\n",
       " 'Urine - Aspect',\n",
       " 'Urine - pH',\n",
       " 'Urine - Hemoglobin',\n",
       " 'Urine - Bile pigments',\n",
       " 'Urine - Ketone Bodies',\n",
       " 'Urine - Nitrite',\n",
       " 'Urine - Density',\n",
       " 'Urine - Urobilinogen',\n",
       " 'Urine - Protein',\n",
       " 'Urine - Sugar',\n",
       " 'Urine - Leukocytes',\n",
       " 'Urine - Crystals',\n",
       " 'Urine - Red blood cells',\n",
       " 'Urine - Hyaline cylinders',\n",
       " 'Urine - Granular cylinders',\n",
       " 'Urine - Yeasts',\n",
       " 'Urine - Color',\n",
       " 'Partial thromboplastin time\\xa0(PTT)\\xa0',\n",
       " 'Relationship (Patient/Normal)',\n",
       " 'International normalized ratio (INR)',\n",
       " 'Lactic Dehydrogenase',\n",
       " 'Prothrombin time (PT), Activity',\n",
       " 'Vitamin B12',\n",
       " 'Creatine phosphokinase\\xa0(CPK)\\xa0',\n",
       " 'Ferritin',\n",
       " 'Arterial Lactic Acid',\n",
       " 'Lipase dosage',\n",
       " 'D-Dimer',\n",
       " 'Albumin',\n",
       " 'Hb saturation (arterial blood gases)',\n",
       " 'pCO2 (arterial blood gas analysis)',\n",
       " 'Base excess (arterial blood gas analysis)',\n",
       " 'pH (arterial blood gas analysis)',\n",
       " 'Total CO2 (arterial blood gas analysis)',\n",
       " 'HCO3 (arterial blood gas analysis)',\n",
       " 'pO2 (arterial blood gas analysis)',\n",
       " 'Arteiral Fio2',\n",
       " 'Phosphor',\n",
       " 'ctO2 (arterial blood gas analysis)']"
      ]
     },
     "execution_count": 7,
     "metadata": {},
     "output_type": "execute_result"
    }
   ],
   "source": [
    "veri_saopaulo_l = list(veri_saopaulo.columns)\n",
    "veri_saopaulo_l"
   ]
  },
  {
   "cell_type": "code",
   "execution_count": 8,
   "metadata": {},
   "outputs": [],
   "source": [
    "veri_saopaulo_l2 = ['Hemoglobin','Hematocrit', 'Lymphocytes', 'Leukocytes'\n",
    ",'Mean corpuscular hemoglobin (MCH)','Mean corpuscular hemoglobin concentration (MCHC)'\n",
    ",'Mean corpuscular volume (MCV)','Monocytes','Neutrophils','Basophils','Eosinophils'\n",
    ",'Red blood Cells','Red blood cell distribution width (RDW)','Platelets',\n",
    "'Alanine transaminase', 'Aspartate transaminase', 'Proteina C reativa mg/dL',\n",
    "'Creatinine','Lactic Dehydrogenase', 'Total Bilirubin']\n"
   ]
  },
  {
   "cell_type": "code",
   "execution_count": 9,
   "metadata": {},
   "outputs": [
    {
     "data": {
      "text/plain": [
       "20"
      ]
     },
     "execution_count": 9,
     "metadata": {},
     "output_type": "execute_result"
    }
   ],
   "source": [
    "len(veri_saopaulo_l2)"
   ]
  },
  {
   "cell_type": "code",
   "execution_count": 11,
   "metadata": {},
   "outputs": [
    {
     "data": {
      "text/html": [
       "<div>\n",
       "<style scoped>\n",
       "    .dataframe tbody tr th:only-of-type {\n",
       "        vertical-align: middle;\n",
       "    }\n",
       "\n",
       "    .dataframe tbody tr th {\n",
       "        vertical-align: top;\n",
       "    }\n",
       "\n",
       "    .dataframe thead th {\n",
       "        text-align: right;\n",
       "    }\n",
       "</style>\n",
       "<table border=\"1\" class=\"dataframe\">\n",
       "  <thead>\n",
       "    <tr style=\"text-align: right;\">\n",
       "      <th></th>\n",
       "      <th>Hemoglobin</th>\n",
       "      <th>Hematocrit</th>\n",
       "      <th>Lymphocytes</th>\n",
       "      <th>Leukocytes</th>\n",
       "      <th>Mean corpuscular hemoglobin (MCH)</th>\n",
       "      <th>Mean corpuscular hemoglobin concentration (MCHC)</th>\n",
       "      <th>Mean corpuscular volume (MCV)</th>\n",
       "      <th>Monocytes</th>\n",
       "      <th>Neutrophils</th>\n",
       "      <th>Basophils</th>\n",
       "      <th>Eosinophils</th>\n",
       "      <th>Red blood Cells</th>\n",
       "      <th>Red blood cell distribution width (RDW)</th>\n",
       "      <th>Platelets</th>\n",
       "      <th>Alanine transaminase</th>\n",
       "      <th>Aspartate transaminase</th>\n",
       "      <th>Proteina C reativa mg/dL</th>\n",
       "      <th>Creatinine</th>\n",
       "      <th>Lactic Dehydrogenase</th>\n",
       "      <th>Total Bilirubin</th>\n",
       "    </tr>\n",
       "  </thead>\n",
       "  <tbody>\n",
       "    <tr>\n",
       "      <th>count</th>\n",
       "      <td>34.000000</td>\n",
       "      <td>34.000000</td>\n",
       "      <td>34.000000</td>\n",
       "      <td>34.000000</td>\n",
       "      <td>34.000000</td>\n",
       "      <td>34.000000</td>\n",
       "      <td>34.000000</td>\n",
       "      <td>34.000000</td>\n",
       "      <td>34.000000</td>\n",
       "      <td>34.000000</td>\n",
       "      <td>34.000000</td>\n",
       "      <td>34.000000</td>\n",
       "      <td>34.000000</td>\n",
       "      <td>34.000000</td>\n",
       "      <td>34.000000</td>\n",
       "      <td>34.000000</td>\n",
       "      <td>34.000000</td>\n",
       "      <td>34.000000</td>\n",
       "      <td>34.000000</td>\n",
       "      <td>34.000000</td>\n",
       "    </tr>\n",
       "    <tr>\n",
       "      <th>mean</th>\n",
       "      <td>-0.254536</td>\n",
       "      <td>-0.272419</td>\n",
       "      <td>-0.168793</td>\n",
       "      <td>-0.367078</td>\n",
       "      <td>0.002911</td>\n",
       "      <td>0.024491</td>\n",
       "      <td>-0.000525</td>\n",
       "      <td>0.158255</td>\n",
       "      <td>0.213655</td>\n",
       "      <td>-0.071037</td>\n",
       "      <td>-0.167475</td>\n",
       "      <td>-0.246455</td>\n",
       "      <td>0.197052</td>\n",
       "      <td>-0.561749</td>\n",
       "      <td>0.287141</td>\n",
       "      <td>0.249934</td>\n",
       "      <td>0.321624</td>\n",
       "      <td>0.180385</td>\n",
       "      <td>0.081885</td>\n",
       "      <td>-0.111890</td>\n",
       "    </tr>\n",
       "    <tr>\n",
       "      <th>std</th>\n",
       "      <td>1.075713</td>\n",
       "      <td>1.154333</td>\n",
       "      <td>0.995873</td>\n",
       "      <td>0.978905</td>\n",
       "      <td>0.920506</td>\n",
       "      <td>0.775905</td>\n",
       "      <td>1.002494</td>\n",
       "      <td>1.229053</td>\n",
       "      <td>1.054984</td>\n",
       "      <td>0.810788</td>\n",
       "      <td>0.882469</td>\n",
       "      <td>1.072448</td>\n",
       "      <td>1.446215</td>\n",
       "      <td>0.894008</td>\n",
       "      <td>1.669310</td>\n",
       "      <td>1.445992</td>\n",
       "      <td>1.072684</td>\n",
       "      <td>1.242338</td>\n",
       "      <td>0.924424</td>\n",
       "      <td>1.035339</td>\n",
       "    </tr>\n",
       "    <tr>\n",
       "      <th>min</th>\n",
       "      <td>-3.343107</td>\n",
       "      <td>-3.540099</td>\n",
       "      <td>-1.694489</td>\n",
       "      <td>-1.928470</td>\n",
       "      <td>-2.696764</td>\n",
       "      <td>-1.747415</td>\n",
       "      <td>-2.217325</td>\n",
       "      <td>-2.084932</td>\n",
       "      <td>-2.626823</td>\n",
       "      <td>-1.140144</td>\n",
       "      <td>-0.835508</td>\n",
       "      <td>-3.476958</td>\n",
       "      <td>-1.421182</td>\n",
       "      <td>-2.075077</td>\n",
       "      <td>-0.641951</td>\n",
       "      <td>-0.626705</td>\n",
       "      <td>-0.523440</td>\n",
       "      <td>-2.389999</td>\n",
       "      <td>-1.266351</td>\n",
       "      <td>-1.093174</td>\n",
       "    </tr>\n",
       "    <tr>\n",
       "      <th>25%</th>\n",
       "      <td>-0.648900</td>\n",
       "      <td>-0.650417</td>\n",
       "      <td>-0.737104</td>\n",
       "      <td>-0.974668</td>\n",
       "      <td>-0.436017</td>\n",
       "      <td>-0.353319</td>\n",
       "      <td>-0.639998</td>\n",
       "      <td>-0.325297</td>\n",
       "      <td>-0.215490</td>\n",
       "      <td>-0.529226</td>\n",
       "      <td>-0.740694</td>\n",
       "      <td>-0.673732</td>\n",
       "      <td>-0.602959</td>\n",
       "      <td>-1.186329</td>\n",
       "      <td>-0.393869</td>\n",
       "      <td>-0.355744</td>\n",
       "      <td>-0.461843</td>\n",
       "      <td>-0.503260</td>\n",
       "      <td>-0.587776</td>\n",
       "      <td>-0.787085</td>\n",
       "    </tr>\n",
       "    <tr>\n",
       "      <th>50%</th>\n",
       "      <td>-0.178980</td>\n",
       "      <td>-0.370032</td>\n",
       "      <td>-0.172054</td>\n",
       "      <td>-0.638646</td>\n",
       "      <td>-0.004775</td>\n",
       "      <td>-0.054585</td>\n",
       "      <td>-0.034103</td>\n",
       "      <td>0.094915</td>\n",
       "      <td>0.126645</td>\n",
       "      <td>-0.223767</td>\n",
       "      <td>-0.582671</td>\n",
       "      <td>-0.259418</td>\n",
       "      <td>-0.138562</td>\n",
       "      <td>-0.605346</td>\n",
       "      <td>-0.159569</td>\n",
       "      <td>-0.142846</td>\n",
       "      <td>-0.098220</td>\n",
       "      <td>0.108422</td>\n",
       "      <td>-0.040964</td>\n",
       "      <td>-0.480996</td>\n",
       "    </tr>\n",
       "    <tr>\n",
       "      <th>75%</th>\n",
       "      <td>0.525900</td>\n",
       "      <td>0.659954</td>\n",
       "      <td>0.363143</td>\n",
       "      <td>0.029920</td>\n",
       "      <td>0.596348</td>\n",
       "      <td>0.418411</td>\n",
       "      <td>0.671938</td>\n",
       "      <td>0.646442</td>\n",
       "      <td>0.974811</td>\n",
       "      <td>0.310787</td>\n",
       "      <td>0.165303</td>\n",
       "      <td>0.256270</td>\n",
       "      <td>0.347948</td>\n",
       "      <td>-0.168823</td>\n",
       "      <td>0.102296</td>\n",
       "      <td>0.147470</td>\n",
       "      <td>0.868958</td>\n",
       "      <td>0.633952</td>\n",
       "      <td>0.492673</td>\n",
       "      <td>0.131181</td>\n",
       "    </tr>\n",
       "    <tr>\n",
       "      <th>max</th>\n",
       "      <td>1.606716</td>\n",
       "      <td>1.724273</td>\n",
       "      <td>3.218241</td>\n",
       "      <td>2.217890</td>\n",
       "      <td>1.850867</td>\n",
       "      <td>1.936978</td>\n",
       "      <td>2.028940</td>\n",
       "      <td>4.533397</td>\n",
       "      <td>2.036044</td>\n",
       "      <td>2.219906</td>\n",
       "      <td>2.830618</td>\n",
       "      <td>1.494802</td>\n",
       "      <td>5.124598</td>\n",
       "      <td>2.334118</td>\n",
       "      <td>7.930663</td>\n",
       "      <td>7.231172</td>\n",
       "      <td>3.627427</td>\n",
       "      <td>3.296062</td>\n",
       "      <td>2.436163</td>\n",
       "      <td>4.722510</td>\n",
       "    </tr>\n",
       "  </tbody>\n",
       "</table>\n",
       "</div>"
      ],
      "text/plain": [
       "       Hemoglobin  Hematocrit  Lymphocytes  Leukocytes  \\\n",
       "count   34.000000   34.000000    34.000000   34.000000   \n",
       "mean    -0.254536   -0.272419    -0.168793   -0.367078   \n",
       "std      1.075713    1.154333     0.995873    0.978905   \n",
       "min     -3.343107   -3.540099    -1.694489   -1.928470   \n",
       "25%     -0.648900   -0.650417    -0.737104   -0.974668   \n",
       "50%     -0.178980   -0.370032    -0.172054   -0.638646   \n",
       "75%      0.525900    0.659954     0.363143    0.029920   \n",
       "max      1.606716    1.724273     3.218241    2.217890   \n",
       "\n",
       "       Mean corpuscular hemoglobin (MCH)  \\\n",
       "count                          34.000000   \n",
       "mean                            0.002911   \n",
       "std                             0.920506   \n",
       "min                            -2.696764   \n",
       "25%                            -0.436017   \n",
       "50%                            -0.004775   \n",
       "75%                             0.596348   \n",
       "max                             1.850867   \n",
       "\n",
       "       Mean corpuscular hemoglobin concentration (MCHC)  \\\n",
       "count                                         34.000000   \n",
       "mean                                           0.024491   \n",
       "std                                            0.775905   \n",
       "min                                           -1.747415   \n",
       "25%                                           -0.353319   \n",
       "50%                                           -0.054585   \n",
       "75%                                            0.418411   \n",
       "max                                            1.936978   \n",
       "\n",
       "       Mean corpuscular volume (MCV)  Monocytes  Neutrophils  Basophils  \\\n",
       "count                      34.000000  34.000000    34.000000  34.000000   \n",
       "mean                       -0.000525   0.158255     0.213655  -0.071037   \n",
       "std                         1.002494   1.229053     1.054984   0.810788   \n",
       "min                        -2.217325  -2.084932    -2.626823  -1.140144   \n",
       "25%                        -0.639998  -0.325297    -0.215490  -0.529226   \n",
       "50%                        -0.034103   0.094915     0.126645  -0.223767   \n",
       "75%                         0.671938   0.646442     0.974811   0.310787   \n",
       "max                         2.028940   4.533397     2.036044   2.219906   \n",
       "\n",
       "       Eosinophils  Red blood Cells  Red blood cell distribution width (RDW)  \\\n",
       "count    34.000000        34.000000                                34.000000   \n",
       "mean     -0.167475        -0.246455                                 0.197052   \n",
       "std       0.882469         1.072448                                 1.446215   \n",
       "min      -0.835508        -3.476958                                -1.421182   \n",
       "25%      -0.740694        -0.673732                                -0.602959   \n",
       "50%      -0.582671        -0.259418                                -0.138562   \n",
       "75%       0.165303         0.256270                                 0.347948   \n",
       "max       2.830618         1.494802                                 5.124598   \n",
       "\n",
       "       Platelets  Alanine transaminase  Aspartate transaminase  \\\n",
       "count  34.000000             34.000000               34.000000   \n",
       "mean   -0.561749              0.287141                0.249934   \n",
       "std     0.894008              1.669310                1.445992   \n",
       "min    -2.075077             -0.641951               -0.626705   \n",
       "25%    -1.186329             -0.393869               -0.355744   \n",
       "50%    -0.605346             -0.159569               -0.142846   \n",
       "75%    -0.168823              0.102296                0.147470   \n",
       "max     2.334118              7.930663                7.231172   \n",
       "\n",
       "       Proteina C reativa mg/dL  Creatinine  Lactic Dehydrogenase  \\\n",
       "count                 34.000000   34.000000             34.000000   \n",
       "mean                   0.321624    0.180385              0.081885   \n",
       "std                    1.072684    1.242338              0.924424   \n",
       "min                   -0.523440   -2.389999             -1.266351   \n",
       "25%                   -0.461843   -0.503260             -0.587776   \n",
       "50%                   -0.098220    0.108422             -0.040964   \n",
       "75%                    0.868958    0.633952              0.492673   \n",
       "max                    3.627427    3.296062              2.436163   \n",
       "\n",
       "       Total Bilirubin  \n",
       "count        34.000000  \n",
       "mean         -0.111890  \n",
       "std           1.035339  \n",
       "min          -1.093174  \n",
       "25%          -0.787085  \n",
       "50%          -0.480996  \n",
       "75%           0.131181  \n",
       "max           4.722510  "
      ]
     },
     "execution_count": 11,
     "metadata": {},
     "output_type": "execute_result"
    }
   ],
   "source": [
    "veriler_sao_cbc_cc = veri_saopaulo[['Hemoglobin','Hematocrit', 'Lymphocytes', 'Leukocytes'\n",
    ",'Mean corpuscular hemoglobin (MCH)','Mean corpuscular hemoglobin concentration (MCHC)'\n",
    ",'Mean corpuscular volume (MCV)','Monocytes','Neutrophils','Basophils','Eosinophils'\n",
    ",'Red blood Cells','Red blood cell distribution width (RDW)','Platelets',\n",
    "'Alanine transaminase', 'Aspartate transaminase', 'Proteina C reativa mg/dL',\n",
    "'Creatinine','Lactic Dehydrogenase', 'Total Bilirubin','SARS-Cov-2 exam result']]\n",
    "veriler_sao_cbc_cc = veriler_sao_cbc_cc.dropna(axis=0)\n",
    "veriler_sao_cbc_cc.describe()"
   ]
  },
  {
   "cell_type": "code",
   "execution_count": 12,
   "metadata": {},
   "outputs": [
    {
     "data": {
      "text/html": [
       "<div>\n",
       "<style scoped>\n",
       "    .dataframe tbody tr th:only-of-type {\n",
       "        vertical-align: middle;\n",
       "    }\n",
       "\n",
       "    .dataframe tbody tr th {\n",
       "        vertical-align: top;\n",
       "    }\n",
       "\n",
       "    .dataframe thead th {\n",
       "        text-align: right;\n",
       "    }\n",
       "</style>\n",
       "<table border=\"1\" class=\"dataframe\">\n",
       "  <thead>\n",
       "    <tr style=\"text-align: right;\">\n",
       "      <th></th>\n",
       "      <th>Hemoglobin</th>\n",
       "      <th>Hematocrit</th>\n",
       "      <th>Lymphocytes</th>\n",
       "      <th>Leukocytes</th>\n",
       "      <th>Mean corpuscular hemoglobin (MCH)</th>\n",
       "      <th>Mean corpuscular hemoglobin concentration (MCHC)</th>\n",
       "      <th>Mean corpuscular volume (MCV)</th>\n",
       "      <th>Monocytes</th>\n",
       "      <th>Neutrophils</th>\n",
       "      <th>Basophils</th>\n",
       "      <th>...</th>\n",
       "      <th>Red blood cell distribution width (RDW)</th>\n",
       "      <th>Platelets</th>\n",
       "      <th>Alanine transaminase</th>\n",
       "      <th>Aspartate transaminase</th>\n",
       "      <th>Proteina C reativa mg/dL</th>\n",
       "      <th>Creatinine</th>\n",
       "      <th>Lactic Dehydrogenase</th>\n",
       "      <th>Total Bilirubin</th>\n",
       "      <th>SARS-Cov-2 exam result</th>\n",
       "      <th>PCR_result</th>\n",
       "    </tr>\n",
       "  </thead>\n",
       "  <tbody>\n",
       "    <tr>\n",
       "      <th>50</th>\n",
       "      <td>0.666876</td>\n",
       "      <td>1.014726</td>\n",
       "      <td>-0.261609</td>\n",
       "      <td>-0.083479</td>\n",
       "      <td>0.544077</td>\n",
       "      <td>-0.950790</td>\n",
       "      <td>1.167670</td>\n",
       "      <td>-0.246507</td>\n",
       "      <td>0.388879</td>\n",
       "      <td>-0.223767</td>\n",
       "      <td>...</td>\n",
       "      <td>-0.359703</td>\n",
       "      <td>-0.203368</td>\n",
       "      <td>-0.366304</td>\n",
       "      <td>-0.510579</td>\n",
       "      <td>-0.461843</td>\n",
       "      <td>2.124389</td>\n",
       "      <td>-1.266351</td>\n",
       "      <td>0.131181</td>\n",
       "      <td>negative</td>\n",
       "      <td>0</td>\n",
       "    </tr>\n",
       "    <tr>\n",
       "      <th>62</th>\n",
       "      <td>0.541564</td>\n",
       "      <td>0.740064</td>\n",
       "      <td>0.966573</td>\n",
       "      <td>0.350636</td>\n",
       "      <td>1.328151</td>\n",
       "      <td>-0.552476</td>\n",
       "      <td>1.808615</td>\n",
       "      <td>-0.088928</td>\n",
       "      <td>-0.930490</td>\n",
       "      <td>0.081693</td>\n",
       "      <td>...</td>\n",
       "      <td>0.790231</td>\n",
       "      <td>-0.065188</td>\n",
       "      <td>-0.559257</td>\n",
       "      <td>-0.471870</td>\n",
       "      <td>-0.475752</td>\n",
       "      <td>-0.529106</td>\n",
       "      <td>-1.147765</td>\n",
       "      <td>-1.093174</td>\n",
       "      <td>negative</td>\n",
       "      <td>0</td>\n",
       "    </tr>\n",
       "    <tr>\n",
       "      <th>146</th>\n",
       "      <td>0.604220</td>\n",
       "      <td>0.762952</td>\n",
       "      <td>-1.549495</td>\n",
       "      <td>1.563934</td>\n",
       "      <td>1.432694</td>\n",
       "      <td>-0.353319</td>\n",
       "      <td>1.828645</td>\n",
       "      <td>-0.456613</td>\n",
       "      <td>1.888536</td>\n",
       "      <td>-0.834685</td>\n",
       "      <td>...</td>\n",
       "      <td>0.082579</td>\n",
       "      <td>-1.371616</td>\n",
       "      <td>-0.145786</td>\n",
       "      <td>-0.007365</td>\n",
       "      <td>0.891312</td>\n",
       "      <td>1.021638</td>\n",
       "      <td>-0.238607</td>\n",
       "      <td>0.743358</td>\n",
       "      <td>negative</td>\n",
       "      <td>0</td>\n",
       "    </tr>\n",
       "    <tr>\n",
       "      <th>226</th>\n",
       "      <td>1.606716</td>\n",
       "      <td>1.724273</td>\n",
       "      <td>-0.227493</td>\n",
       "      <td>-0.631689</td>\n",
       "      <td>0.125903</td>\n",
       "      <td>-0.054585</td>\n",
       "      <td>0.186222</td>\n",
       "      <td>-0.299034</td>\n",
       "      <td>0.503607</td>\n",
       "      <td>0.387152</td>\n",
       "      <td>...</td>\n",
       "      <td>0.171035</td>\n",
       "      <td>-1.522358</td>\n",
       "      <td>-0.090657</td>\n",
       "      <td>-0.162200</td>\n",
       "      <td>-0.497609</td>\n",
       "      <td>0.022270</td>\n",
       "      <td>-0.936946</td>\n",
       "      <td>0.743358</td>\n",
       "      <td>negative</td>\n",
       "      <td>0</td>\n",
       "    </tr>\n",
       "    <tr>\n",
       "      <th>671</th>\n",
       "      <td>-0.335620</td>\n",
       "      <td>-0.289922</td>\n",
       "      <td>-0.585713</td>\n",
       "      <td>-0.692910</td>\n",
       "      <td>0.648619</td>\n",
       "      <td>-0.253742</td>\n",
       "      <td>0.887256</td>\n",
       "      <td>0.672705</td>\n",
       "      <td>0.339711</td>\n",
       "      <td>0.081693</td>\n",
       "      <td>...</td>\n",
       "      <td>0.259492</td>\n",
       "      <td>0.223734</td>\n",
       "      <td>0.102296</td>\n",
       "      <td>-0.162200</td>\n",
       "      <td>-0.461843</td>\n",
       "      <td>-0.632489</td>\n",
       "      <td>0.117151</td>\n",
       "      <td>0.131181</td>\n",
       "      <td>negative</td>\n",
       "      <td>0</td>\n",
       "    </tr>\n",
       "  </tbody>\n",
       "</table>\n",
       "<p>5 rows × 22 columns</p>\n",
       "</div>"
      ],
      "text/plain": [
       "     Hemoglobin  Hematocrit  Lymphocytes  Leukocytes  \\\n",
       "50     0.666876    1.014726    -0.261609   -0.083479   \n",
       "62     0.541564    0.740064     0.966573    0.350636   \n",
       "146    0.604220    0.762952    -1.549495    1.563934   \n",
       "226    1.606716    1.724273    -0.227493   -0.631689   \n",
       "671   -0.335620   -0.289922    -0.585713   -0.692910   \n",
       "\n",
       "     Mean corpuscular hemoglobin (MCH)  \\\n",
       "50                            0.544077   \n",
       "62                            1.328151   \n",
       "146                           1.432694   \n",
       "226                           0.125903   \n",
       "671                           0.648619   \n",
       "\n",
       "     Mean corpuscular hemoglobin concentration (MCHC)  \\\n",
       "50                                          -0.950790   \n",
       "62                                          -0.552476   \n",
       "146                                         -0.353319   \n",
       "226                                         -0.054585   \n",
       "671                                         -0.253742   \n",
       "\n",
       "     Mean corpuscular volume (MCV)  Monocytes  Neutrophils  Basophils  ...  \\\n",
       "50                        1.167670  -0.246507     0.388879  -0.223767  ...   \n",
       "62                        1.808615  -0.088928    -0.930490   0.081693  ...   \n",
       "146                       1.828645  -0.456613     1.888536  -0.834685  ...   \n",
       "226                       0.186222  -0.299034     0.503607   0.387152  ...   \n",
       "671                       0.887256   0.672705     0.339711   0.081693  ...   \n",
       "\n",
       "     Red blood cell distribution width (RDW)  Platelets  Alanine transaminase  \\\n",
       "50                                 -0.359703  -0.203368             -0.366304   \n",
       "62                                  0.790231  -0.065188             -0.559257   \n",
       "146                                 0.082579  -1.371616             -0.145786   \n",
       "226                                 0.171035  -1.522358             -0.090657   \n",
       "671                                 0.259492   0.223734              0.102296   \n",
       "\n",
       "     Aspartate transaminase  Proteina C reativa mg/dL  Creatinine  \\\n",
       "50                -0.510579                 -0.461843    2.124389   \n",
       "62                -0.471870                 -0.475752   -0.529106   \n",
       "146               -0.007365                  0.891312    1.021638   \n",
       "226               -0.162200                 -0.497609    0.022270   \n",
       "671               -0.162200                 -0.461843   -0.632489   \n",
       "\n",
       "     Lactic Dehydrogenase  Total Bilirubin  SARS-Cov-2 exam result  PCR_result  \n",
       "50              -1.266351         0.131181                negative           0  \n",
       "62              -1.147765        -1.093174                negative           0  \n",
       "146             -0.238607         0.743358                negative           0  \n",
       "226             -0.936946         0.743358                negative           0  \n",
       "671              0.117151         0.131181                negative           0  \n",
       "\n",
       "[5 rows x 22 columns]"
      ]
     },
     "execution_count": 12,
     "metadata": {},
     "output_type": "execute_result"
    }
   ],
   "source": [
    "# PCR result to integer (0: negative, 1: positive)\n",
    "\n",
    "from sklearn.preprocessing import LabelEncoder\n",
    "\n",
    "le = LabelEncoder()\n",
    "veriler_sao_cbc_cc[\"PCR_result\"] = le.fit_transform(veriler_sao_cbc_cc[\"SARS-Cov-2 exam result\"])\n",
    "veriler_sao_cbc_cc.head()"
   ]
  },
  {
   "cell_type": "code",
   "execution_count": 13,
   "metadata": {},
   "outputs": [
    {
     "name": "stdout",
     "output_type": "stream",
     "text": [
      "total number of pcr results:  34\n",
      "number of positive pcr results:  15\n",
      "number of negative pcr results:  19\n"
     ]
    }
   ],
   "source": [
    "# Sao Paulo Data\n",
    "print('total number of pcr results: ',len(veriler_sao_cbc_cc['SARS-Cov-2 exam result']))\n",
    "print('number of positive pcr results: ',len(veriler_sao_cbc_cc[veriler_sao_cbc_cc['SARS-Cov-2 exam result']=='positive']))\n",
    "print('number of negative pcr results: ',len(veriler_sao_cbc_cc[veriler_sao_cbc_cc['SARS-Cov-2 exam result']=='negative']))"
   ]
  },
  {
   "cell_type": "code",
   "execution_count": 14,
   "metadata": {},
   "outputs": [
    {
     "data": {
      "text/html": [
       "<div>\n",
       "<style scoped>\n",
       "    .dataframe tbody tr th:only-of-type {\n",
       "        vertical-align: middle;\n",
       "    }\n",
       "\n",
       "    .dataframe tbody tr th {\n",
       "        vertical-align: top;\n",
       "    }\n",
       "\n",
       "    .dataframe thead th {\n",
       "        text-align: right;\n",
       "    }\n",
       "</style>\n",
       "<table border=\"1\" class=\"dataframe\">\n",
       "  <thead>\n",
       "    <tr style=\"text-align: right;\">\n",
       "      <th></th>\n",
       "      <th>Hemoglobin</th>\n",
       "      <th>Hematocrit</th>\n",
       "      <th>Lymphocytes</th>\n",
       "      <th>Leukocytes</th>\n",
       "      <th>Mean corpuscular hemoglobin (MCH)</th>\n",
       "      <th>Mean corpuscular hemoglobin concentration (MCHC)</th>\n",
       "      <th>Mean corpuscular volume (MCV)</th>\n",
       "      <th>Monocytes</th>\n",
       "      <th>Neutrophils</th>\n",
       "      <th>Basophils</th>\n",
       "      <th>...</th>\n",
       "      <th>Red blood Cells</th>\n",
       "      <th>Red blood cell distribution width (RDW)</th>\n",
       "      <th>Platelets</th>\n",
       "      <th>Alanine transaminase</th>\n",
       "      <th>Aspartate transaminase</th>\n",
       "      <th>Proteina C reativa mg/dL</th>\n",
       "      <th>Creatinine</th>\n",
       "      <th>Lactic Dehydrogenase</th>\n",
       "      <th>Total Bilirubin</th>\n",
       "      <th>PCR_result</th>\n",
       "    </tr>\n",
       "  </thead>\n",
       "  <tbody>\n",
       "    <tr>\n",
       "      <th>count</th>\n",
       "      <td>34.000000</td>\n",
       "      <td>34.000000</td>\n",
       "      <td>34.000000</td>\n",
       "      <td>34.000000</td>\n",
       "      <td>34.000000</td>\n",
       "      <td>34.000000</td>\n",
       "      <td>34.000000</td>\n",
       "      <td>34.000000</td>\n",
       "      <td>34.000000</td>\n",
       "      <td>34.000000</td>\n",
       "      <td>...</td>\n",
       "      <td>34.000000</td>\n",
       "      <td>34.000000</td>\n",
       "      <td>34.000000</td>\n",
       "      <td>34.000000</td>\n",
       "      <td>34.000000</td>\n",
       "      <td>34.000000</td>\n",
       "      <td>34.000000</td>\n",
       "      <td>34.000000</td>\n",
       "      <td>34.000000</td>\n",
       "      <td>34.000000</td>\n",
       "    </tr>\n",
       "    <tr>\n",
       "      <th>mean</th>\n",
       "      <td>-0.254536</td>\n",
       "      <td>-0.272419</td>\n",
       "      <td>-0.168793</td>\n",
       "      <td>-0.367078</td>\n",
       "      <td>0.002911</td>\n",
       "      <td>0.024491</td>\n",
       "      <td>-0.000525</td>\n",
       "      <td>0.158255</td>\n",
       "      <td>0.213655</td>\n",
       "      <td>-0.071037</td>\n",
       "      <td>...</td>\n",
       "      <td>-0.246455</td>\n",
       "      <td>0.197052</td>\n",
       "      <td>-0.561749</td>\n",
       "      <td>0.287141</td>\n",
       "      <td>0.249934</td>\n",
       "      <td>0.321624</td>\n",
       "      <td>0.180385</td>\n",
       "      <td>0.081885</td>\n",
       "      <td>-0.111890</td>\n",
       "      <td>0.441176</td>\n",
       "    </tr>\n",
       "    <tr>\n",
       "      <th>std</th>\n",
       "      <td>1.075713</td>\n",
       "      <td>1.154333</td>\n",
       "      <td>0.995873</td>\n",
       "      <td>0.978905</td>\n",
       "      <td>0.920506</td>\n",
       "      <td>0.775905</td>\n",
       "      <td>1.002494</td>\n",
       "      <td>1.229053</td>\n",
       "      <td>1.054984</td>\n",
       "      <td>0.810788</td>\n",
       "      <td>...</td>\n",
       "      <td>1.072448</td>\n",
       "      <td>1.446215</td>\n",
       "      <td>0.894008</td>\n",
       "      <td>1.669310</td>\n",
       "      <td>1.445992</td>\n",
       "      <td>1.072684</td>\n",
       "      <td>1.242338</td>\n",
       "      <td>0.924424</td>\n",
       "      <td>1.035339</td>\n",
       "      <td>0.503995</td>\n",
       "    </tr>\n",
       "    <tr>\n",
       "      <th>min</th>\n",
       "      <td>-3.343107</td>\n",
       "      <td>-3.540099</td>\n",
       "      <td>-1.694489</td>\n",
       "      <td>-1.928470</td>\n",
       "      <td>-2.696764</td>\n",
       "      <td>-1.747415</td>\n",
       "      <td>-2.217325</td>\n",
       "      <td>-2.084932</td>\n",
       "      <td>-2.626823</td>\n",
       "      <td>-1.140144</td>\n",
       "      <td>...</td>\n",
       "      <td>-3.476958</td>\n",
       "      <td>-1.421182</td>\n",
       "      <td>-2.075077</td>\n",
       "      <td>-0.641951</td>\n",
       "      <td>-0.626705</td>\n",
       "      <td>-0.523440</td>\n",
       "      <td>-2.389999</td>\n",
       "      <td>-1.266351</td>\n",
       "      <td>-1.093174</td>\n",
       "      <td>0.000000</td>\n",
       "    </tr>\n",
       "    <tr>\n",
       "      <th>25%</th>\n",
       "      <td>-0.648900</td>\n",
       "      <td>-0.650417</td>\n",
       "      <td>-0.737104</td>\n",
       "      <td>-0.974668</td>\n",
       "      <td>-0.436017</td>\n",
       "      <td>-0.353319</td>\n",
       "      <td>-0.639998</td>\n",
       "      <td>-0.325297</td>\n",
       "      <td>-0.215490</td>\n",
       "      <td>-0.529226</td>\n",
       "      <td>...</td>\n",
       "      <td>-0.673732</td>\n",
       "      <td>-0.602959</td>\n",
       "      <td>-1.186329</td>\n",
       "      <td>-0.393869</td>\n",
       "      <td>-0.355744</td>\n",
       "      <td>-0.461843</td>\n",
       "      <td>-0.503260</td>\n",
       "      <td>-0.587776</td>\n",
       "      <td>-0.787085</td>\n",
       "      <td>0.000000</td>\n",
       "    </tr>\n",
       "    <tr>\n",
       "      <th>50%</th>\n",
       "      <td>-0.178980</td>\n",
       "      <td>-0.370032</td>\n",
       "      <td>-0.172054</td>\n",
       "      <td>-0.638646</td>\n",
       "      <td>-0.004775</td>\n",
       "      <td>-0.054585</td>\n",
       "      <td>-0.034103</td>\n",
       "      <td>0.094915</td>\n",
       "      <td>0.126645</td>\n",
       "      <td>-0.223767</td>\n",
       "      <td>...</td>\n",
       "      <td>-0.259418</td>\n",
       "      <td>-0.138562</td>\n",
       "      <td>-0.605346</td>\n",
       "      <td>-0.159569</td>\n",
       "      <td>-0.142846</td>\n",
       "      <td>-0.098220</td>\n",
       "      <td>0.108422</td>\n",
       "      <td>-0.040964</td>\n",
       "      <td>-0.480996</td>\n",
       "      <td>0.000000</td>\n",
       "    </tr>\n",
       "    <tr>\n",
       "      <th>75%</th>\n",
       "      <td>0.525900</td>\n",
       "      <td>0.659954</td>\n",
       "      <td>0.363143</td>\n",
       "      <td>0.029920</td>\n",
       "      <td>0.596348</td>\n",
       "      <td>0.418411</td>\n",
       "      <td>0.671938</td>\n",
       "      <td>0.646442</td>\n",
       "      <td>0.974811</td>\n",
       "      <td>0.310787</td>\n",
       "      <td>...</td>\n",
       "      <td>0.256270</td>\n",
       "      <td>0.347948</td>\n",
       "      <td>-0.168823</td>\n",
       "      <td>0.102296</td>\n",
       "      <td>0.147470</td>\n",
       "      <td>0.868958</td>\n",
       "      <td>0.633952</td>\n",
       "      <td>0.492673</td>\n",
       "      <td>0.131181</td>\n",
       "      <td>1.000000</td>\n",
       "    </tr>\n",
       "    <tr>\n",
       "      <th>max</th>\n",
       "      <td>1.606716</td>\n",
       "      <td>1.724273</td>\n",
       "      <td>3.218241</td>\n",
       "      <td>2.217890</td>\n",
       "      <td>1.850867</td>\n",
       "      <td>1.936978</td>\n",
       "      <td>2.028940</td>\n",
       "      <td>4.533397</td>\n",
       "      <td>2.036044</td>\n",
       "      <td>2.219906</td>\n",
       "      <td>...</td>\n",
       "      <td>1.494802</td>\n",
       "      <td>5.124598</td>\n",
       "      <td>2.334118</td>\n",
       "      <td>7.930663</td>\n",
       "      <td>7.231172</td>\n",
       "      <td>3.627427</td>\n",
       "      <td>3.296062</td>\n",
       "      <td>2.436163</td>\n",
       "      <td>4.722510</td>\n",
       "      <td>1.000000</td>\n",
       "    </tr>\n",
       "  </tbody>\n",
       "</table>\n",
       "<p>8 rows × 21 columns</p>\n",
       "</div>"
      ],
      "text/plain": [
       "       Hemoglobin  Hematocrit  Lymphocytes  Leukocytes  \\\n",
       "count   34.000000   34.000000    34.000000   34.000000   \n",
       "mean    -0.254536   -0.272419    -0.168793   -0.367078   \n",
       "std      1.075713    1.154333     0.995873    0.978905   \n",
       "min     -3.343107   -3.540099    -1.694489   -1.928470   \n",
       "25%     -0.648900   -0.650417    -0.737104   -0.974668   \n",
       "50%     -0.178980   -0.370032    -0.172054   -0.638646   \n",
       "75%      0.525900    0.659954     0.363143    0.029920   \n",
       "max      1.606716    1.724273     3.218241    2.217890   \n",
       "\n",
       "       Mean corpuscular hemoglobin (MCH)  \\\n",
       "count                          34.000000   \n",
       "mean                            0.002911   \n",
       "std                             0.920506   \n",
       "min                            -2.696764   \n",
       "25%                            -0.436017   \n",
       "50%                            -0.004775   \n",
       "75%                             0.596348   \n",
       "max                             1.850867   \n",
       "\n",
       "       Mean corpuscular hemoglobin concentration (MCHC)  \\\n",
       "count                                         34.000000   \n",
       "mean                                           0.024491   \n",
       "std                                            0.775905   \n",
       "min                                           -1.747415   \n",
       "25%                                           -0.353319   \n",
       "50%                                           -0.054585   \n",
       "75%                                            0.418411   \n",
       "max                                            1.936978   \n",
       "\n",
       "       Mean corpuscular volume (MCV)  Monocytes  Neutrophils  Basophils  ...  \\\n",
       "count                      34.000000  34.000000    34.000000  34.000000  ...   \n",
       "mean                       -0.000525   0.158255     0.213655  -0.071037  ...   \n",
       "std                         1.002494   1.229053     1.054984   0.810788  ...   \n",
       "min                        -2.217325  -2.084932    -2.626823  -1.140144  ...   \n",
       "25%                        -0.639998  -0.325297    -0.215490  -0.529226  ...   \n",
       "50%                        -0.034103   0.094915     0.126645  -0.223767  ...   \n",
       "75%                         0.671938   0.646442     0.974811   0.310787  ...   \n",
       "max                         2.028940   4.533397     2.036044   2.219906  ...   \n",
       "\n",
       "       Red blood Cells  Red blood cell distribution width (RDW)  Platelets  \\\n",
       "count        34.000000                                34.000000  34.000000   \n",
       "mean         -0.246455                                 0.197052  -0.561749   \n",
       "std           1.072448                                 1.446215   0.894008   \n",
       "min          -3.476958                                -1.421182  -2.075077   \n",
       "25%          -0.673732                                -0.602959  -1.186329   \n",
       "50%          -0.259418                                -0.138562  -0.605346   \n",
       "75%           0.256270                                 0.347948  -0.168823   \n",
       "max           1.494802                                 5.124598   2.334118   \n",
       "\n",
       "       Alanine transaminase  Aspartate transaminase  Proteina C reativa mg/dL  \\\n",
       "count             34.000000               34.000000                 34.000000   \n",
       "mean               0.287141                0.249934                  0.321624   \n",
       "std                1.669310                1.445992                  1.072684   \n",
       "min               -0.641951               -0.626705                 -0.523440   \n",
       "25%               -0.393869               -0.355744                 -0.461843   \n",
       "50%               -0.159569               -0.142846                 -0.098220   \n",
       "75%                0.102296                0.147470                  0.868958   \n",
       "max                7.930663                7.231172                  3.627427   \n",
       "\n",
       "       Creatinine  Lactic Dehydrogenase  Total Bilirubin  PCR_result  \n",
       "count   34.000000             34.000000        34.000000   34.000000  \n",
       "mean     0.180385              0.081885        -0.111890    0.441176  \n",
       "std      1.242338              0.924424         1.035339    0.503995  \n",
       "min     -2.389999             -1.266351        -1.093174    0.000000  \n",
       "25%     -0.503260             -0.587776        -0.787085    0.000000  \n",
       "50%      0.108422             -0.040964        -0.480996    0.000000  \n",
       "75%      0.633952              0.492673         0.131181    1.000000  \n",
       "max      3.296062              2.436163         4.722510    1.000000  \n",
       "\n",
       "[8 rows x 21 columns]"
      ]
     },
     "execution_count": 14,
     "metadata": {},
     "output_type": "execute_result"
    }
   ],
   "source": [
    "veriler_sao_cbc_cc.describe()"
   ]
  },
  {
   "cell_type": "code",
   "execution_count": 15,
   "metadata": {},
   "outputs": [],
   "source": [
    "Xs = veriler_sao_cbc_cc[['Hemoglobin','Hematocrit', 'Lymphocytes', 'Leukocytes'\n",
    ",'Mean corpuscular hemoglobin (MCH)','Mean corpuscular hemoglobin concentration (MCHC)'\n",
    ",'Mean corpuscular volume (MCV)','Monocytes','Neutrophils','Basophils','Eosinophils'\n",
    ",'Red blood Cells','Red blood cell distribution width (RDW)','Platelets',\n",
    "'Alanine transaminase', 'Aspartate transaminase', 'Proteina C reativa mg/dL',\n",
    "'Creatinine','Lactic Dehydrogenase', 'Total Bilirubin']].values\n",
    "\n",
    "Ys = veriler_sao_cbc_cc['PCR_result'].values"
   ]
  },
  {
   "cell_type": "markdown",
   "metadata": {},
   "source": [
    "### Baskent Data features (demographic data)"
   ]
  },
  {
   "cell_type": "code",
   "execution_count": 17,
   "metadata": {},
   "outputs": [],
   "source": [
    "# Exporting demographical data to excel\n",
    "\n",
    "veriler.describe().to_excel(r'/Users/hikmetcancubukcu/Desktop/covidai/veriler başkent covid/covid cbc&cc demographic2.xlsx')"
   ]
  },
  {
   "cell_type": "code",
   "execution_count": 18,
   "metadata": {},
   "outputs": [
    {
     "name": "stdout",
     "output_type": "stream",
     "text": [
      "<class 'pandas.core.frame.DataFrame'>\n",
      "RangeIndex: 1391 entries, 0 to 1390\n",
      "Data columns (total 24 columns):\n",
      " #   Column                    Non-Null Count  Dtype  \n",
      "---  ------                    --------------  -----  \n",
      " 0   hastano                   1391 non-null   int64  \n",
      " 1   yasiondalik               1391 non-null   float64\n",
      " 2   cinsiyet                  1391 non-null   object \n",
      " 3   alanin_aminotransferaz    1391 non-null   int64  \n",
      " 4   aspartat_aminotransferaz  1391 non-null   int64  \n",
      " 5   basophils                 1391 non-null   float64\n",
      " 6   c_reactive_protein        1391 non-null   float64\n",
      " 7   eosinophils               1391 non-null   float64\n",
      " 8   hb                        1391 non-null   float64\n",
      " 9   hct                       1391 non-null   float64\n",
      " 10  kreatinin                 1391 non-null   float64\n",
      " 11  laktat_dehidrogenaz       1391 non-null   int64  \n",
      " 12  lenfosit                  1391 non-null   float64\n",
      " 13  lokosit                   1391 non-null   float64\n",
      " 14  mch                       1391 non-null   float64\n",
      " 15  mchc                      1391 non-null   float64\n",
      " 16  mcv                       1391 non-null   float64\n",
      " 17  monocytes                 1391 non-null   float64\n",
      " 18  notrofil                  1391 non-null   float64\n",
      " 19  rbc                       1391 non-null   float64\n",
      " 20  rdw                       1391 non-null   float64\n",
      " 21  total_bilirubin           1391 non-null   float64\n",
      " 22  trombosit                 1391 non-null   float64\n",
      " 23  pcr                       1391 non-null   object \n",
      "dtypes: float64(18), int64(4), object(2)\n",
      "memory usage: 260.9+ KB\n"
     ]
    }
   ],
   "source": [
    "veriler.info()"
   ]
  },
  {
   "cell_type": "markdown",
   "metadata": {},
   "source": [
    "### Baskent Data preprocessing"
   ]
  },
  {
   "cell_type": "code",
   "execution_count": null,
   "metadata": {},
   "outputs": [],
   "source": [
    "# Gender to integer (0 : E, 1 : K)\n",
    "\n",
    "from sklearn.preprocessing import LabelEncoder\n",
    "\n",
    "le = LabelEncoder()\n",
    "veriler[\"gender\"] = le.fit_transform(veriler[\"cinsiyet\"])"
   ]
  },
  {
   "cell_type": "code",
   "execution_count": null,
   "metadata": {},
   "outputs": [],
   "source": [
    "# Pcr to numeric values (negative : 0 , positive : 1)\n",
    "\n",
    "veriler[\"pcr_result\"] = le.fit_transform(veriler[\"pcr\"])\n",
    "\n"
   ]
  },
  {
   "cell_type": "code",
   "execution_count": 21,
   "metadata": {},
   "outputs": [
    {
     "name": "stdout",
     "output_type": "stream",
     "text": [
      "<class 'pandas.core.frame.DataFrame'>\n",
      "RangeIndex: 1391 entries, 0 to 1390\n",
      "Data columns (total 26 columns):\n",
      " #   Column                    Non-Null Count  Dtype  \n",
      "---  ------                    --------------  -----  \n",
      " 0   hastano                   1391 non-null   int64  \n",
      " 1   yasiondalik               1391 non-null   float64\n",
      " 2   cinsiyet                  1391 non-null   object \n",
      " 3   alanin_aminotransferaz    1391 non-null   int64  \n",
      " 4   aspartat_aminotransferaz  1391 non-null   int64  \n",
      " 5   basophils                 1391 non-null   float64\n",
      " 6   c_reactive_protein        1391 non-null   float64\n",
      " 7   eosinophils               1391 non-null   float64\n",
      " 8   hb                        1391 non-null   float64\n",
      " 9   hct                       1391 non-null   float64\n",
      " 10  kreatinin                 1391 non-null   float64\n",
      " 11  laktat_dehidrogenaz       1391 non-null   int64  \n",
      " 12  lenfosit                  1391 non-null   float64\n",
      " 13  lokosit                   1391 non-null   float64\n",
      " 14  mch                       1391 non-null   float64\n",
      " 15  mchc                      1391 non-null   float64\n",
      " 16  mcv                       1391 non-null   float64\n",
      " 17  monocytes                 1391 non-null   float64\n",
      " 18  notrofil                  1391 non-null   float64\n",
      " 19  rbc                       1391 non-null   float64\n",
      " 20  rdw                       1391 non-null   float64\n",
      " 21  total_bilirubin           1391 non-null   float64\n",
      " 22  trombosit                 1391 non-null   float64\n",
      " 23  pcr                       1391 non-null   object \n",
      " 24  gender                    1391 non-null   int64  \n",
      " 25  pcr_result                1391 non-null   int64  \n",
      "dtypes: float64(18), int64(6), object(2)\n",
      "memory usage: 282.7+ KB\n"
     ]
    }
   ],
   "source": [
    "veriler.info() # başkent uni data"
   ]
  },
  {
   "cell_type": "code",
   "execution_count": 22,
   "metadata": {},
   "outputs": [],
   "source": [
    "# Dependent & Independent variables (chemistry + cbc)\n",
    "\n",
    "X = veriler[['hb','hct','lenfosit','lokosit','mch','mchc','mcv','monocytes','notrofil',\n",
    "             'basophils','eosinophils', 'rbc','rdw','trombosit','alanin_aminotransferaz', \n",
    "             'aspartat_aminotransferaz', 'c_reactive_protein','kreatinin',\n",
    "            'laktat_dehidrogenaz', 'total_bilirubin']].values\n",
    "Y = veriler['pcr_result'].values"
   ]
  },
  {
   "cell_type": "code",
   "execution_count": 23,
   "metadata": {},
   "outputs": [],
   "source": [
    "# Train - Test Spilt (80% - 20%)\n",
    "\n",
    "from sklearn.model_selection import train_test_split\n",
    "x_train, x_test,y_train,y_test = train_test_split(X,Y,stratify=Y,test_size=0.20, random_state=0)\n"
   ]
  },
  {
   "cell_type": "code",
   "execution_count": 24,
   "metadata": {},
   "outputs": [
    {
     "name": "stdout",
     "output_type": "stream",
     "text": [
      "n of test set 279\n",
      "n of train set 1112\n"
     ]
    }
   ],
   "source": [
    "print('n of test set', len(y_test))\n",
    "print('n of train set', len(y_train))"
   ]
  },
  {
   "cell_type": "code",
   "execution_count": 25,
   "metadata": {},
   "outputs": [],
   "source": [
    "# Standardization\n",
    "\n",
    "from sklearn.preprocessing import StandardScaler\n",
    "\n",
    "sc = StandardScaler()\n",
    "X_train = sc.fit_transform(x_train)\n",
    "X_test = sc.fit_transform(x_test)"
   ]
  },
  {
   "cell_type": "code",
   "execution_count": 26,
   "metadata": {},
   "outputs": [],
   "source": [
    "#confusion matrix function\n",
    "\n",
    "from sklearn.metrics import classification_report, confusion_matrix\n",
    "import itertools\n",
    "def plot_confusion_matrix(cm, classes,\n",
    "                          normalize=False,\n",
    "                          title='Confusion matrix',\n",
    "                          cmap=plt.cm.Blues):\n",
    "    \"\"\"\n",
    "    This function prints and plots the confusion matrix.\n",
    "    Normalization can be applied by setting `normalize=True`.\n",
    "    \"\"\"\n",
    "    if normalize:\n",
    "        cm = cm.astype('float') / cm.sum(axis=1)[:, np.newaxis]\n",
    "        print(\"Normalized confusion matrix\")\n",
    "    else:\n",
    "        print('Confusion matrix, without normalization')\n",
    "\n",
    "    print(cm)\n",
    "\n",
    "    plt.imshow(cm, interpolation='nearest', cmap=cmap)\n",
    "    plt.title(title)\n",
    "    plt.colorbar()\n",
    "    tick_marks = np.arange(len(classes))\n",
    "    plt.xticks(tick_marks, classes, rotation=45)\n",
    "    plt.yticks(tick_marks, classes)\n",
    "\n",
    "    fmt = '.2f' if normalize else 'd'\n",
    "    thresh = cm.max() / 2.\n",
    "    for i, j in itertools.product(range(cm.shape[0]), range(cm.shape[1])):\n",
    "        plt.text(j, i, format(cm[i, j], fmt),\n",
    "                 horizontalalignment=\"center\",\n",
    "                 color=\"white\" if cm[i, j] > thresh else \"black\")\n",
    "\n",
    "    plt.tight_layout()\n",
    "    plt.ylabel('True label')\n",
    "    plt.xlabel('Predicted label')\n"
   ]
  },
  {
   "cell_type": "markdown",
   "metadata": {},
   "source": [
    "### Logistic Regression"
   ]
  },
  {
   "cell_type": "code",
   "execution_count": 27,
   "metadata": {},
   "outputs": [],
   "source": [
    "# importing library\n",
    "\n",
    "from sklearn.linear_model import LogisticRegression"
   ]
  },
  {
   "cell_type": "code",
   "execution_count": 28,
   "metadata": {},
   "outputs": [],
   "source": [
    "logr= LogisticRegression(random_state=0)"
   ]
  },
  {
   "cell_type": "code",
   "execution_count": 29,
   "metadata": {},
   "outputs": [
    {
     "data": {
      "text/plain": [
       "LogisticRegression(random_state=0)"
      ]
     },
     "execution_count": 29,
     "metadata": {},
     "output_type": "execute_result"
    }
   ],
   "source": [
    "logr.fit(X_train,y_train)"
   ]
  },
  {
   "cell_type": "code",
   "execution_count": 30,
   "metadata": {},
   "outputs": [],
   "source": [
    "y_hat= logr.predict(X_test)\n",
    "yhat_logr = logr.predict_proba(X_test)\n",
    "y_hat22 = y_hat"
   ]
  },
  {
   "cell_type": "code",
   "execution_count": 31,
   "metadata": {},
   "outputs": [
    {
     "name": "stdout",
     "output_type": "stream",
     "text": [
      "Confusion matrix, without normalization\n",
      "[[115  27]\n",
      " [ 28 109]]\n"
     ]
    },
    {
     "data": {
      "image/png": "[encoded data removed]",
      "text/plain": [
       "<Figure size 432x288 with 2 Axes>"
      ]
     },
     "metadata": {
      "needs_background": "light"
     },
     "output_type": "display_data"
    }
   ],
   "source": [
    "# Compute confusion matrix\n",
    "cnf_matrix = confusion_matrix(y_test, y_hat, labels=[1,0])\n",
    "np.set_printoptions(precision=2)\n",
    "\n",
    "\n",
    "# Plot non-normalized confusion matrix\n",
    "plt.figure()\n",
    "plot_confusion_matrix(cnf_matrix, classes=['PCR positive','PCR negative'],normalize= False,  title='Confusion matrix')"
   ]
  },
  {
   "cell_type": "code",
   "execution_count": 32,
   "metadata": {},
   "outputs": [
    {
     "name": "stdout",
     "output_type": "stream",
     "text": [
      "              precision    recall  f1-score   support\n",
      "\n",
      "           0       0.80      0.80      0.80       137\n",
      "           1       0.80      0.81      0.81       142\n",
      "\n",
      "    accuracy                           0.80       279\n",
      "   macro avg       0.80      0.80      0.80       279\n",
      "weighted avg       0.80      0.80      0.80       279\n",
      "\n",
      "precision : positive predictive value\n",
      "recall : sensitivity\n"
     ]
    }
   ],
   "source": [
    "print (classification_report(y_test, y_hat))\n",
    "\n",
    "print('precision : positive predictive value')\n",
    "print('recall : sensitivity')"
   ]
  },
  {
   "cell_type": "code",
   "execution_count": 33,
   "metadata": {},
   "outputs": [
    {
     "name": "stdout",
     "output_type": "stream",
     "text": [
      "0.803989703989704\n",
      "0.024418862245620735\n"
     ]
    }
   ],
   "source": [
    "# 10 fold cross validation\n",
    "\n",
    "from sklearn.model_selection import cross_val_score\n",
    "''' \n",
    "1. estimator : classifier (bizim durum)\n",
    "2. X\n",
    "3. Y\n",
    "4. cv : kaç katlamalı\n",
    "\n",
    "'''\n",
    "basari = cross_val_score(estimator = logr, X=X_train, y=y_train , cv = 10)\n",
    "print(basari.mean())\n",
    "print(basari.std())"
   ]
  },
  {
   "cell_type": "code",
   "execution_count": 34,
   "metadata": {},
   "outputs": [],
   "source": [
    "# sao paulo external validation - logistic regression"
   ]
  },
  {
   "cell_type": "code",
   "execution_count": 35,
   "metadata": {},
   "outputs": [],
   "source": [
    "y_hats= logr.predict(Xs)\n",
    "\n",
    "yhats_logr = logr.predict_proba(Xs)\n",
    "y_hats22 = y_hats"
   ]
  },
  {
   "cell_type": "code",
   "execution_count": 36,
   "metadata": {},
   "outputs": [
    {
     "name": "stdout",
     "output_type": "stream",
     "text": [
      "Confusion matrix, without normalization\n",
      "[[15  0]\n",
      " [ 6 13]]\n"
     ]
    },
    {
     "data": {
      "image/png": "[encoded data removed]",
      "text/plain": [
       "<Figure size 432x288 with 2 Axes>"
      ]
     },
     "metadata": {
      "needs_background": "light"
     },
     "output_type": "display_data"
    }
   ],
   "source": [
    "# Compute confusion matrix\n",
    "cnf_matrix = confusion_matrix(Ys, y_hats22, labels=[1,0])\n",
    "np.set_printoptions(precision=2)\n",
    "\n",
    "\n",
    "# Plot non-normalized confusion matrix\n",
    "plt.figure()\n",
    "plot_confusion_matrix(cnf_matrix, classes=['PCR positive','PCR negative'],normalize= False,  title='Confusion matrix')"
   ]
  },
  {
   "cell_type": "code",
   "execution_count": 37,
   "metadata": {},
   "outputs": [
    {
     "name": "stdout",
     "output_type": "stream",
     "text": [
      "              precision    recall  f1-score   support\n",
      "\n",
      "           0       1.00      0.68      0.81        19\n",
      "           1       0.71      1.00      0.83        15\n",
      "\n",
      "    accuracy                           0.82        34\n",
      "   macro avg       0.86      0.84      0.82        34\n",
      "weighted avg       0.87      0.82      0.82        34\n",
      "\n",
      "precision : positive predictive value\n",
      "recall : sensitivity\n"
     ]
    }
   ],
   "source": [
    "print (classification_report(Ys, y_hats))\n",
    "\n",
    "print('precision : positive predictive value')\n",
    "print('recall : sensitivity')"
   ]
  },
  {
   "cell_type": "markdown",
   "metadata": {},
   "source": [
    "### Support Vector Machines"
   ]
  },
  {
   "cell_type": "code",
   "execution_count": 41,
   "metadata": {},
   "outputs": [],
   "source": [
    "from sklearn.svm import SVC\n",
    "svc= SVC(kernel=\"rbf\",probability=True)"
   ]
  },
  {
   "cell_type": "code",
   "execution_count": 42,
   "metadata": {},
   "outputs": [],
   "source": [
    "svc.fit(X_train, y_train)\n",
    "yhat= svc.predict(X_test)\n",
    "yhat_svm = svc.predict_proba(X_test)\n",
    "yhat4 = yhat # svm prediction => yhat4"
   ]
  },
  {
   "cell_type": "code",
   "execution_count": 43,
   "metadata": {},
   "outputs": [
    {
     "name": "stdout",
     "output_type": "stream",
     "text": [
      "Confusion matrix, without normalization\n",
      "[[114  28]\n",
      " [ 17 120]]\n"
     ]
    },
    {
     "data": {
      "image/png": "[encoded data removed]",
      "text/plain": [
       "<Figure size 432x288 with 2 Axes>"
      ]
     },
     "metadata": {
      "needs_background": "light"
     },
     "output_type": "display_data"
    }
   ],
   "source": [
    "# Compute confusion matrix\n",
    "cnf_matrix = confusion_matrix(y_test, yhat4, labels=[1,0])\n",
    "np.set_printoptions(precision=2)\n",
    "\n",
    "\n",
    "# Plot non-normalized confusion matrix\n",
    "plt.figure()\n",
    "plot_confusion_matrix(cnf_matrix, classes=['PCR positive','PCR negative'],normalize= False,  title='Confusion matrix')"
   ]
  },
  {
   "cell_type": "code",
   "execution_count": 44,
   "metadata": {},
   "outputs": [
    {
     "name": "stdout",
     "output_type": "stream",
     "text": [
      "              precision    recall  f1-score   support\n",
      "\n",
      "           0       0.81      0.88      0.84       137\n",
      "           1       0.87      0.80      0.84       142\n",
      "\n",
      "    accuracy                           0.84       279\n",
      "   macro avg       0.84      0.84      0.84       279\n",
      "weighted avg       0.84      0.84      0.84       279\n",
      "\n",
      "precision : positive predictive value\n",
      "recall : sensitivity\n"
     ]
    }
   ],
   "source": [
    "print (classification_report(y_test, yhat4))\n",
    "\n",
    "print('precision : positive predictive value')\n",
    "print('recall : sensitivity')"
   ]
  },
  {
   "cell_type": "code",
   "execution_count": 45,
   "metadata": {},
   "outputs": [
    {
     "name": "stdout",
     "output_type": "stream",
     "text": [
      "0.8183075933075934\n",
      "0.02855823666142479\n"
     ]
    }
   ],
   "source": [
    "# 10 fold cross validation\n",
    "\n",
    "from sklearn.model_selection import cross_val_score\n",
    "''' \n",
    "1. estimator : classifier (bizim durum)\n",
    "2. X\n",
    "3. Y\n",
    "4. cv : kaç katlamalı\n",
    "\n",
    "'''\n",
    "basari = cross_val_score(estimator = svc, X=X_train, y=y_train , cv = 10)\n",
    "print(basari.mean())\n",
    "print(basari.std())"
   ]
  },
  {
   "cell_type": "code",
   "execution_count": 46,
   "metadata": {},
   "outputs": [],
   "source": [
    "# SAO PAULO EXTERNAL VALIDATION\n",
    "\n",
    "y_hats4= svc.predict(Xs)\n",
    "\n",
    "yhats2_svc = svc.predict_proba(Xs)\n",
    "\n"
   ]
  },
  {
   "cell_type": "code",
   "execution_count": 47,
   "metadata": {},
   "outputs": [
    {
     "name": "stdout",
     "output_type": "stream",
     "text": [
      "Confusion matrix, without normalization\n",
      "[[15  0]\n",
      " [ 3 16]]\n"
     ]
    },
    {
     "data": {
      "image/png": "[encoded data removed]",
      "text/plain": [
       "<Figure size 432x288 with 2 Axes>"
      ]
     },
     "metadata": {
      "needs_background": "light"
     },
     "output_type": "display_data"
    }
   ],
   "source": [
    "# Compute confusion matrix\n",
    "cnf_matrix = confusion_matrix(Ys, y_hats4, labels=[1,0])\n",
    "np.set_printoptions(precision=2)\n",
    "\n",
    "\n",
    "# Plot non-normalized confusion matrix\n",
    "plt.figure()\n",
    "plot_confusion_matrix(cnf_matrix, classes=['PCR positive','PCR negative'],normalize= False,  title='Confusion matrix')"
   ]
  },
  {
   "cell_type": "code",
   "execution_count": 48,
   "metadata": {},
   "outputs": [
    {
     "name": "stdout",
     "output_type": "stream",
     "text": [
      "              precision    recall  f1-score   support\n",
      "\n",
      "           0       1.00      0.84      0.91        19\n",
      "           1       0.83      1.00      0.91        15\n",
      "\n",
      "    accuracy                           0.91        34\n",
      "   macro avg       0.92      0.92      0.91        34\n",
      "weighted avg       0.93      0.91      0.91        34\n",
      "\n",
      "precision : positive predictive value\n",
      "recall : sensitivity\n"
     ]
    }
   ],
   "source": [
    "print (classification_report(Ys, y_hats4))\n",
    "\n",
    "print('precision : positive predictive value')\n",
    "print('recall : sensitivity')"
   ]
  },
  {
   "cell_type": "markdown",
   "metadata": {},
   "source": [
    "### RANDOM FOREST CLASSIFIER"
   ]
  },
  {
   "cell_type": "code",
   "execution_count": 50,
   "metadata": {},
   "outputs": [],
   "source": [
    "from sklearn.ensemble import RandomForestClassifier\n",
    "rfc= RandomForestClassifier(n_estimators=200,criterion=\"entropy\")"
   ]
  },
  {
   "cell_type": "code",
   "execution_count": 51,
   "metadata": {},
   "outputs": [],
   "source": [
    "rfc.fit(X_train,y_train)\n",
    "yhat7= rfc.predict(X_test)\n",
    "yhat_rf = rfc.predict_proba(X_test)\n"
   ]
  },
  {
   "cell_type": "code",
   "execution_count": 52,
   "metadata": {},
   "outputs": [
    {
     "name": "stdout",
     "output_type": "stream",
     "text": [
      "Confusion matrix, without normalization\n",
      "[[113  29]\n",
      " [ 12 125]]\n"
     ]
    },
    {
     "data": {
      "image/png": "[encoded data removed]",
      "text/plain": [
       "<Figure size 432x288 with 2 Axes>"
      ]
     },
     "metadata": {
      "needs_background": "light"
     },
     "output_type": "display_data"
    }
   ],
   "source": [
    "# Compute confusion matrix\n",
    "cnf_matrix = confusion_matrix(y_test, yhat7, labels=[1,0])\n",
    "np.set_printoptions(precision=2)\n",
    "\n",
    "\n",
    "# Plot non-normalized confusion matrix\n",
    "plt.figure()\n",
    "plot_confusion_matrix(cnf_matrix, classes=['PCR positive','PCR negative'],normalize= False,  title='Confusion matrix')"
   ]
  },
  {
   "cell_type": "code",
   "execution_count": 53,
   "metadata": {},
   "outputs": [
    {
     "name": "stdout",
     "output_type": "stream",
     "text": [
      "              precision    recall  f1-score   support\n",
      "\n",
      "           0       0.81      0.91      0.86       137\n",
      "           1       0.90      0.80      0.85       142\n",
      "\n",
      "    accuracy                           0.85       279\n",
      "   macro avg       0.86      0.85      0.85       279\n",
      "weighted avg       0.86      0.85      0.85       279\n",
      "\n",
      "precision : positive predictive value\n",
      "recall : sensitivity\n"
     ]
    }
   ],
   "source": [
    "print (classification_report(y_test, yhat7))\n",
    "\n",
    "print('precision : positive predictive value')\n",
    "print('recall : sensitivity')"
   ]
  },
  {
   "cell_type": "code",
   "execution_count": 54,
   "metadata": {},
   "outputs": [
    {
     "name": "stdout",
     "output_type": "stream",
     "text": [
      "0.8498310810810811\n",
      "0.030634627957013747\n"
     ]
    }
   ],
   "source": [
    "# 10 fold cross validation\n",
    "\n",
    "from sklearn.model_selection import cross_val_score\n",
    "''' \n",
    "1. estimator : classifier (bizim durum)\n",
    "2. X\n",
    "3. Y\n",
    "4. cv : kaç katlamalı\n",
    "\n",
    "'''\n",
    "basari = cross_val_score(estimator = rfc, X=X_train, y=y_train , cv = 10)\n",
    "print(basari.mean())\n",
    "print(basari.std())"
   ]
  },
  {
   "cell_type": "code",
   "execution_count": 55,
   "metadata": {},
   "outputs": [],
   "source": [
    "# SAO PAULO EXTERNAL VALIDATION\n",
    "\n",
    "yhats7= rfc.predict(Xs)\n",
    "\n",
    "yhats7_rfc = rfc.predict_proba(Xs)\n"
   ]
  },
  {
   "cell_type": "code",
   "execution_count": 56,
   "metadata": {},
   "outputs": [
    {
     "name": "stdout",
     "output_type": "stream",
     "text": [
      "Confusion matrix, without normalization\n",
      "[[15  0]\n",
      " [ 7 12]]\n"
     ]
    },
    {
     "data": {
      "image/png": "[encoded data removed]",
      "text/plain": [
       "<Figure size 432x288 with 2 Axes>"
      ]
     },
     "metadata": {
      "needs_background": "light"
     },
     "output_type": "display_data"
    }
   ],
   "source": [
    "# Compute confusion matrix\n",
    "cnf_matrix = confusion_matrix(Ys, yhats7, labels=[1,0])\n",
    "np.set_printoptions(precision=2)\n",
    "\n",
    "\n",
    "# Plot non-normalized confusion matrix\n",
    "plt.figure()\n",
    "plot_confusion_matrix(cnf_matrix, classes=['PCR positive','PCR negative'],normalize= False,  title='Confusion matrix')"
   ]
  },
  {
   "cell_type": "code",
   "execution_count": 57,
   "metadata": {},
   "outputs": [
    {
     "name": "stdout",
     "output_type": "stream",
     "text": [
      "              precision    recall  f1-score   support\n",
      "\n",
      "           0       1.00      0.63      0.77        19\n",
      "           1       0.68      1.00      0.81        15\n",
      "\n",
      "    accuracy                           0.79        34\n",
      "   macro avg       0.84      0.82      0.79        34\n",
      "weighted avg       0.86      0.79      0.79        34\n",
      "\n",
      "precision : positive predictive value\n",
      "recall : sensitivity\n"
     ]
    }
   ],
   "source": [
    "print (classification_report(Ys, yhats7))\n",
    "\n",
    "print('precision : positive predictive value')\n",
    "print('recall : sensitivity')"
   ]
  },
  {
   "cell_type": "markdown",
   "metadata": {},
   "source": [
    "### XGBOOST"
   ]
  },
  {
   "cell_type": "code",
   "execution_count": 60,
   "metadata": {},
   "outputs": [],
   "source": [
    "from sklearn.ensemble import GradientBoostingClassifier\n",
    "classifier = GradientBoostingClassifier()"
   ]
  },
  {
   "cell_type": "code",
   "execution_count": 61,
   "metadata": {},
   "outputs": [],
   "source": [
    "classifier.fit(X_train, y_train)\n",
    "yhat8 = classifier.predict(X_test)\n",
    "yhat_xgboost = classifier.predict_proba(X_test)\n"
   ]
  },
  {
   "cell_type": "code",
   "execution_count": 62,
   "metadata": {},
   "outputs": [
    {
     "name": "stdout",
     "output_type": "stream",
     "text": [
      "Confusion matrix, without normalization\n",
      "[[101  41]\n",
      " [  9 128]]\n"
     ]
    },
    {
     "data": {
      "image/png": "[encoded data removed]",
      "text/plain": [
       "<Figure size 432x288 with 2 Axes>"
      ]
     },
     "metadata": {
      "needs_background": "light"
     },
     "output_type": "display_data"
    }
   ],
   "source": [
    "# Compute confusion matrix\n",
    "cnf_matrix = confusion_matrix(y_test, yhat8, labels=[1,0])\n",
    "np.set_printoptions(precision=2)\n",
    "\n",
    "\n",
    "# Plot non-normalized confusion matrix\n",
    "plt.figure()\n",
    "plot_confusion_matrix(cnf_matrix, classes=['PCR positive','PCR negative'],normalize= False,  title='Confusion matrix')"
   ]
  },
  {
   "cell_type": "code",
   "execution_count": 63,
   "metadata": {},
   "outputs": [
    {
     "name": "stdout",
     "output_type": "stream",
     "text": [
      "              precision    recall  f1-score   support\n",
      "\n",
      "           0       0.76      0.93      0.84       137\n",
      "           1       0.92      0.71      0.80       142\n",
      "\n",
      "    accuracy                           0.82       279\n",
      "   macro avg       0.84      0.82      0.82       279\n",
      "weighted avg       0.84      0.82      0.82       279\n",
      "\n",
      "precision : positive predictive value\n",
      "recall : sensitivity\n"
     ]
    }
   ],
   "source": [
    "print (classification_report(y_test, yhat8))\n",
    "\n",
    "print('precision : positive predictive value')\n",
    "print('recall : sensitivity')"
   ]
  },
  {
   "cell_type": "code",
   "execution_count": 64,
   "metadata": {},
   "outputs": [
    {
     "name": "stdout",
     "output_type": "stream",
     "text": [
      "0.855220398970399\n",
      "0.021054694557863376\n"
     ]
    }
   ],
   "source": [
    "# 10 fold cross validation\n",
    "\n",
    "from sklearn.model_selection import cross_val_score\n",
    "''' \n",
    "1. estimator : classifier (bizim durum)\n",
    "2. X\n",
    "3. Y\n",
    "4. cv : kaç katlamalı\n",
    "\n",
    "'''\n",
    "basari = cross_val_score(estimator = classifier, X=X_train, y=y_train , cv = 10)\n",
    "print(basari.mean())\n",
    "print(basari.std())"
   ]
  },
  {
   "cell_type": "code",
   "execution_count": 65,
   "metadata": {},
   "outputs": [],
   "source": [
    "# SAO PAULO EXTERNAL VALIDATION\n",
    "\n",
    "y_hats8= classifier.predict(Xs)\n",
    "y_hats_xgboost = classifier.predict_proba(Xs)\n"
   ]
  },
  {
   "cell_type": "code",
   "execution_count": 66,
   "metadata": {},
   "outputs": [
    {
     "name": "stdout",
     "output_type": "stream",
     "text": [
      "Confusion matrix, without normalization\n",
      "[[15  0]\n",
      " [ 8 11]]\n"
     ]
    },
    {
     "data": {
      "image/png": "[encoded data removed]",
      "text/plain": [
       "<Figure size 432x288 with 2 Axes>"
      ]
     },
     "metadata": {
      "needs_background": "light"
     },
     "output_type": "display_data"
    }
   ],
   "source": [
    "# Compute confusion matrix\n",
    "cnf_matrix = confusion_matrix(Ys, y_hats8, labels=[1,0])\n",
    "np.set_printoptions(precision=2)\n",
    "\n",
    "\n",
    "# Plot non-normalized confusion matrix\n",
    "plt.figure()\n",
    "plot_confusion_matrix(cnf_matrix, classes=['PCR positive','PCR negative'],normalize= False,  title='Confusion matrix')"
   ]
  },
  {
   "cell_type": "code",
   "execution_count": 67,
   "metadata": {},
   "outputs": [
    {
     "name": "stdout",
     "output_type": "stream",
     "text": [
      "              precision    recall  f1-score   support\n",
      "\n",
      "           0       1.00      0.58      0.73        19\n",
      "           1       0.65      1.00      0.79        15\n",
      "\n",
      "    accuracy                           0.76        34\n",
      "   macro avg       0.83      0.79      0.76        34\n",
      "weighted avg       0.85      0.76      0.76        34\n",
      "\n",
      "precision : positive predictive value\n",
      "recall : sensitivity\n"
     ]
    }
   ],
   "source": [
    "print (classification_report(Ys, y_hats8))\n",
    "\n",
    "print('precision : positive predictive value')\n",
    "print('recall : sensitivity')"
   ]
  },
  {
   "cell_type": "markdown",
   "metadata": {},
   "source": [
    "## ROC & AUC"
   ]
  },
  {
   "cell_type": "code",
   "execution_count": 72,
   "metadata": {},
   "outputs": [
    {
     "data": {
      "image/png": "[encoded data removed]",
      "text/plain": [
       "<Figure size 1200x1200 with 1 Axes>"
      ]
     },
     "metadata": {
      "needs_background": "light"
     },
     "output_type": "display_data"
    }
   ],
   "source": [
    "#baskent dataset\n",
    "\n",
    "from sklearn.metrics import roc_curve, auc\n",
    "\n",
    "\n",
    "\n",
    "logr_fpr, logr_tpr, threshold = roc_curve(y_test, yhat_logr[:,1]) # logr roc data\n",
    "auc_logr = auc(logr_fpr, logr_tpr)\n",
    "\n",
    "\n",
    "\n",
    "svm_fpr, svm_tpr, threshold = roc_curve(y_test, yhat_svm[:,1]) # svm roc data\n",
    "auc_svm = auc(svm_fpr, svm_tpr)\n",
    "\n",
    "\n",
    "\n",
    "rf_fpr, rf_tpr, threshold = roc_curve(y_test, yhat_rf[:,1]) # rf roc data\n",
    "auc_rf = auc(rf_fpr, rf_tpr)\n",
    "\n",
    "xgboost_fpr, xgboost_tpr, threshold = roc_curve(y_test, yhat_xgboost[:,1]) # xgboost roc data\n",
    "auc_xgboost = auc(xgboost_fpr, xgboost_tpr)\n",
    "\n",
    "\n",
    "\n",
    "\n",
    "plt.figure(figsize=(4, 4), dpi=300)\n",
    "\n",
    "\n",
    "plt.plot(rf_fpr, rf_tpr,  linestyle='-', label='Random Forest (AUC = %0.3f)' % auc_rf)\n",
    "plt.plot(svm_fpr, svm_tpr, linestyle='-', label='SVM (AUC = %0.3f)' % auc_svm)\n",
    "plt.plot(xgboost_fpr, xgboost_tpr, linestyle='-', label='XGBoost (AUC = %0.3f)' % auc_xgboost)\n",
    "plt.plot(logr_fpr, logr_tpr,  linestyle='-', label='Logistic (AUC = %0.3f)' % auc_logr)\n",
    "\n",
    "\n",
    "\n",
    "\n",
    "\n",
    "\n",
    "\n",
    "\n",
    "plt.xlabel('False Positive Rate')\n",
    "plt.ylabel('True Positive Rate')\n",
    "\n",
    "plt.legend(fontsize=8)\n",
    "\n",
    "plt.show()\n",
    "\n"
   ]
  },
  {
   "cell_type": "code",
   "execution_count": 75,
   "metadata": {},
   "outputs": [
    {
     "data": {
      "image/png": "[encoded data removed]",
      "text/plain": [
       "<Figure size 1200x1200 with 1 Axes>"
      ]
     },
     "metadata": {
      "needs_background": "light"
     },
     "output_type": "display_data"
    }
   ],
   "source": [
    "# sao paulo dataset\n",
    "\n",
    "from sklearn.metrics import roc_curve, auc\n",
    "\n",
    "\n",
    "\n",
    "logr_fpr, logr_tpr, threshold = roc_curve(Ys, yhats_logr[:,1]) # logr roc data\n",
    "auc_logr = auc(logr_fpr, logr_tpr)\n",
    "\n",
    "\n",
    "\n",
    "svm_fpr, svm_tpr, threshold = roc_curve(Ys, yhats2_svc[:,1]) # svm roc data\n",
    "auc_svm = auc(svm_fpr, svm_tpr)\n",
    "\n",
    "\n",
    "\n",
    "rf_fpr, rf_tpr, threshold = roc_curve(Ys, yhats7_rfc[:,1]) # rf roc data\n",
    "auc_rf = auc(rf_fpr, rf_tpr)\n",
    "\n",
    "xgboost_fpr, xgboost_tpr, threshold = roc_curve(Ys, y_hats_xgboost[:,1]) # xgboost roc data\n",
    "auc_xgboost = auc(xgboost_fpr, xgboost_tpr)\n",
    "\n",
    "\n",
    "\n",
    "\n",
    "plt.figure(figsize=(4, 4), dpi=300)\n",
    "\n",
    "plt.plot(svm_fpr, svm_tpr, linestyle='-', label='SVM (AUC = %0.3f)' % auc_svm)\n",
    "plt.plot(rf_fpr, rf_tpr,  linestyle='-', label='Random Forest (AUC = %0.3f)' % auc_rf)\n",
    "plt.plot(logr_fpr, logr_tpr,  linestyle='-', label='Logistic (AUC = %0.3f)' % auc_logr)\n",
    "plt.plot(xgboost_fpr, xgboost_tpr, linestyle='-', label='XGBoost (AUC = %0.3f)' % auc_xgboost)\n",
    "\n",
    "\n",
    "\n",
    "\n",
    "\n",
    "\n",
    "\n",
    "plt.xlabel('False Positive Rate')\n",
    "plt.ylabel('True Positive Rate')\n",
    "\n",
    "plt.legend(fontsize=8)\n",
    "\n",
    "plt.show()\n",
    "\n"
   ]
  },
  {
   "cell_type": "code",
   "execution_count": 76,
   "metadata": {},
   "outputs": [],
   "source": [
    "\n",
    "yhat22= y_hat22*1\n",
    "#yhat22 = [item for sublist in yhat22 for item in sublist]\n",
    "\n",
    "yhat33= yhat4*1\n",
    "yhat44= yhat7*1\n",
    "yhat55= yhat8*1\n",
    "\n",
    "roc_data_array = [yhat55,yhat22,yhat33,yhat44,y_test]\n",
    "\n",
    "roc_data = pd.DataFrame(data=roc_data_array)"
   ]
  },
  {
   "cell_type": "code",
   "execution_count": 77,
   "metadata": {},
   "outputs": [],
   "source": [
    "roc_data.transpose().to_excel(r'roc_covid_cbc_cc_last.xlsx')"
   ]
  },
  {
   "cell_type": "code",
   "execution_count": 78,
   "metadata": {},
   "outputs": [],
   "source": [
    "# validation data cbc\n",
    "\n",
    "\n",
    "yhat222= y_hats22*1\n",
    "#yhat22 = [item for sublist in yhat22 for item in sublist]\n",
    "\n",
    "yhat333= y_hats4*1\n",
    "yhat444= yhats7*1\n",
    "yhat555= y_hats8*1\n",
    "\n",
    "roc_data_array = [yhat555,yhat222,yhat333,yhat444,Ys]\n",
    "\n",
    "roc_data = pd.DataFrame(data=roc_data_array)\n",
    "roc_data.transpose().to_excel(r'roc_covid_cbc_cc_last_val.xlsx')"
   ]
  },
  {
   "cell_type": "code",
   "execution_count": null,
   "metadata": {},
   "outputs": [],
   "source": []
  }
 ],
 "metadata": {
  "kernelspec": {
   "display_name": "Python 3",
   "language": "python",
   "name": "python3"
  },
  "language_info": {
   "codemirror_mode": {
    "name": "ipython",
    "version": 3
   },
   "file_extension": ".py",
   "mimetype": "text/x-python",
   "name": "python",
   "nbconvert_exporter": "python",
   "pygments_lexer": "ipython3",
   "version": "3.7.6"
  }
 },
 "nbformat": 4,
 "nbformat_minor": 4
}
